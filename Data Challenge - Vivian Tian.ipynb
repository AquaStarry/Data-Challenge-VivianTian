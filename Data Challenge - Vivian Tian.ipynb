{
 "cells": [
  {
   "cell_type": "markdown",
   "id": "40e70d93-7b3a-44b9-86ae-2ad84434878a",
   "metadata": {},
   "source": [
    "# Summary\n",
    "\n",
    "The following code in this notebook demonstrates my exploration of the three datasets (Product, Transaction, and User) to identify data quality issues.\n",
    "\n",
    "It also includes SQL queries tailored to answer both closed-ended and open-ended questions outlined in the data challenge, while highlighting an interesting data trend observed in the provided datasets."
   ]
  },
  {
   "cell_type": "markdown",
   "id": "380e12e6-edce-4c69-a6da-f3df9fa18ba1",
   "metadata": {},
   "source": [
    "# Import Packages & Functions"
   ]
  },
  {
   "cell_type": "code",
   "execution_count": 1,
   "id": "77200a64-1fea-46b3-bd70-78e8a54e7d1d",
   "metadata": {},
   "outputs": [],
   "source": [
    "import pandas as pd\n",
    "import numpy as np\n",
    "import warnings\n",
    "warnings.filterwarnings('ignore')\n",
    "\n",
    "# utility function import\n",
    "from util import *"
   ]
  },
  {
   "cell_type": "code",
   "execution_count": 2,
   "id": "c02c10ce-a3ef-4e11-8b6f-3871e60de016",
   "metadata": {},
   "outputs": [],
   "source": [
    "product = pd.read_csv('PRODUCTS_TAKEHOME.csv')\n",
    "transaction = pd.read_csv('TRANSACTION_TAKEHOME.csv')\n",
    "user = pd.read_csv('USER_TAKEHOME.csv')"
   ]
  },
  {
   "cell_type": "code",
   "execution_count": 3,
   "id": "29b898dc-a56d-467f-b166-a0d72aef4d3c",
   "metadata": {},
   "outputs": [],
   "source": [
    "product.name = 'product'\n",
    "transaction.name = 'transaction'\n",
    "user.name = 'user'"
   ]
  },
  {
   "cell_type": "markdown",
   "id": "78cc11e0-42d4-4b9d-99b8-2b406e31b063",
   "metadata": {},
   "source": [
    "# Product Table Analysis"
   ]
  },
  {
   "cell_type": "markdown",
   "id": "0ee7a782-550e-453d-83bb-e6f768ee9cd4",
   "metadata": {},
   "source": [
    "### Key Data Quality Issues in the Product Table:\n",
    "\n",
    "1. **Missing Values**:\n",
    "   - Several columns have a significant percentage of missing data:\n",
    "     - **CATEGORY_4**: 92.02% missing, which suggests that product categorization is incomplete or not consistently recorded for most of the products.\n",
    "     - **MANUFACTURER** and **BRAND**: Both have 26.78% missing values, which could imply inconsistent manufacturer and brand records.\n",
    "     - **CATEGORY_3**: 7.16% missing, indicating some level of missing categorization in this field.\n",
    "     - **BARCODE**: While missing values in the `BARCODE` column are relatively low (0.48%), it still poses an issue for uniqueness and data integrity.\n",
    "\n",
    "2. **Duplicate Values**:\n",
    "   - **BARCODE** contains duplicate values (2 duplicates), even though it’s expected to be a unique identifier. This suggests that some product entries share the same barcode, which violates the uniqueness requirement for primary keys.\n",
    "   - **57 duplicate rows** exist in the product table, which could lead to data inconsistencies and redundancy in reporting or analysis.\n",
    "\n",
    "3. **Mixed Data Types**:\n",
    "   - The **MANUFACTURER** column contains both numeric and string values, which complicates analysis and standardization. These mixed data types should be unified to maintain consistency across the column, likely converting numeric values to strings.\n",
    "\n",
    "4. **Potential Unique Identifiers**:\n",
    "   - The `BARCODE` column, which should be a unique identifier, has missing values and duplicates, making it unreliable as a primary key without further data cleaning.\n",
    "\n",
    "5. **Data Type Overview**:\n",
    "   - Some columns, such as **CATEGORY_4**, **MANUFACTURER**, and **BRAND**, have large proportions of missing values, which suggests that these fields may not be fully utilized or correctly filled.\n",
    "   - **Unique values**: There are large numbers of unique values in columns like **MANUFACTURER** (4354 unique values), which might require standardization or grouping for better consistency in reporting.\n",
    "\n",
    "6. **Null Column Analysis**:\n",
    "   - The **CATEGORY_4** column has a very high percentage of missing values, which could indicate that this field is not being used or recorded for a large portion of the products.\n",
    "\n",
    "### Challenges to Understand:\n",
    "1. **Missing Values Impact**:\n",
    "   - A large proportion of missing values in **CATEGORY_4**, **MANUFACTURER**, and **BRAND** suggests potential gaps in the data collection process. It will be important to assess why these fields are missing so frequently and whether it’s due to data entry issues, inconsistent reporting, or irrelevant for some products.\n",
    "\n",
    "2. **Duplicate Barcodes**:\n",
    "   - The **BARCODE** field, which is expected to be a unique identifier, has duplicate values. Understanding why there are duplicates in this field and resolving them is crucial for ensuring data integrity, as barcodes should typically be unique for each product.\n",
    "\n",
    "3. **Mixed Data Types**:\n",
    "   - The **MANUFACTURER** column contains both numeric and string data types, which could complicate further analysis. Deciding how to handle mixed data types and standardizing this field is important for consistency.\n",
    "\n",
    "4. **Categorization Inconsistencies**:\n",
    "   - The **CATEGORY_4** column has a significant amount of missing data. This suggests that either the categorization is incomplete or inconsistent, and the overall data structure could be impacted. Clarifying whether this column is necessary or if missing data should be handled differently will be important.\n",
    "\n",
    "5. **Data Redundancy**:\n",
    "   - The 57 duplicate rows need to be removed to maintain data consistency and ensure accurate analysis."
   ]
  },
  {
   "cell_type": "code",
   "execution_count": 4,
   "id": "9c6ae9a2-ccd5-4552-bfe5-5f3b156e79c0",
   "metadata": {},
   "outputs": [
    {
     "data": {
      "text/html": [
       "<div>\n",
       "<style scoped>\n",
       "    .dataframe tbody tr th:only-of-type {\n",
       "        vertical-align: middle;\n",
       "    }\n",
       "\n",
       "    .dataframe tbody tr th {\n",
       "        vertical-align: top;\n",
       "    }\n",
       "\n",
       "    .dataframe thead th {\n",
       "        text-align: right;\n",
       "    }\n",
       "</style>\n",
       "<table border=\"1\" class=\"dataframe\">\n",
       "  <thead>\n",
       "    <tr style=\"text-align: right;\">\n",
       "      <th></th>\n",
       "      <th>CATEGORY_1</th>\n",
       "      <th>CATEGORY_2</th>\n",
       "      <th>CATEGORY_3</th>\n",
       "      <th>CATEGORY_4</th>\n",
       "      <th>MANUFACTURER</th>\n",
       "      <th>BRAND</th>\n",
       "      <th>BARCODE</th>\n",
       "    </tr>\n",
       "  </thead>\n",
       "  <tbody>\n",
       "    <tr>\n",
       "      <th>0</th>\n",
       "      <td>Health &amp; Wellness</td>\n",
       "      <td>Sexual Health</td>\n",
       "      <td>Conductivity Gels &amp; Lotions</td>\n",
       "      <td>NaN</td>\n",
       "      <td>NaN</td>\n",
       "      <td>NaN</td>\n",
       "      <td>7.964944e+11</td>\n",
       "    </tr>\n",
       "    <tr>\n",
       "      <th>1</th>\n",
       "      <td>Snacks</td>\n",
       "      <td>Puffed Snacks</td>\n",
       "      <td>Cheese Curls &amp; Puffs</td>\n",
       "      <td>NaN</td>\n",
       "      <td>NaN</td>\n",
       "      <td>NaN</td>\n",
       "      <td>2.327801e+10</td>\n",
       "    </tr>\n",
       "    <tr>\n",
       "      <th>2</th>\n",
       "      <td>Health &amp; Wellness</td>\n",
       "      <td>Hair Care</td>\n",
       "      <td>Hair Care Accessories</td>\n",
       "      <td>NaN</td>\n",
       "      <td>PLACEHOLDER MANUFACTURER</td>\n",
       "      <td>ELECSOP</td>\n",
       "      <td>4.618178e+11</td>\n",
       "    </tr>\n",
       "    <tr>\n",
       "      <th>3</th>\n",
       "      <td>Health &amp; Wellness</td>\n",
       "      <td>Oral Care</td>\n",
       "      <td>Toothpaste</td>\n",
       "      <td>NaN</td>\n",
       "      <td>COLGATE-PALMOLIVE</td>\n",
       "      <td>COLGATE</td>\n",
       "      <td>3.500047e+10</td>\n",
       "    </tr>\n",
       "    <tr>\n",
       "      <th>4</th>\n",
       "      <td>Health &amp; Wellness</td>\n",
       "      <td>Medicines &amp; Treatments</td>\n",
       "      <td>Essential Oils</td>\n",
       "      <td>NaN</td>\n",
       "      <td>MAPLE HOLISTICS AND HONEYDEW PRODUCTS INTERCHANGEABLY.</td>\n",
       "      <td>MAPLE HOLISTICS</td>\n",
       "      <td>8.068109e+11</td>\n",
       "    </tr>\n",
       "  </tbody>\n",
       "</table>\n",
       "</div>"
      ],
      "text/plain": [
       "          CATEGORY_1              CATEGORY_2                   CATEGORY_3  \\\n",
       "0  Health & Wellness           Sexual Health  Conductivity Gels & Lotions   \n",
       "1             Snacks           Puffed Snacks         Cheese Curls & Puffs   \n",
       "2  Health & Wellness               Hair Care        Hair Care Accessories   \n",
       "3  Health & Wellness               Oral Care                   Toothpaste   \n",
       "4  Health & Wellness  Medicines & Treatments               Essential Oils   \n",
       "\n",
       "  CATEGORY_4                                            MANUFACTURER  \\\n",
       "0        NaN                                                     NaN   \n",
       "1        NaN                                                     NaN   \n",
       "2        NaN                                PLACEHOLDER MANUFACTURER   \n",
       "3        NaN                                       COLGATE-PALMOLIVE   \n",
       "4        NaN  MAPLE HOLISTICS AND HONEYDEW PRODUCTS INTERCHANGEABLY.   \n",
       "\n",
       "             BRAND       BARCODE  \n",
       "0              NaN  7.964944e+11  \n",
       "1              NaN  2.327801e+10  \n",
       "2          ELECSOP  4.618178e+11  \n",
       "3          COLGATE  3.500047e+10  \n",
       "4  MAPLE HOLISTICS  8.068109e+11  "
      ]
     },
     "execution_count": 4,
     "metadata": {},
     "output_type": "execute_result"
    }
   ],
   "source": [
    "product.head()"
   ]
  },
  {
   "cell_type": "markdown",
   "id": "8a12087c-b550-4e1d-91b7-ac424414e1bf",
   "metadata": {},
   "source": [
    "Notes:\n",
    "\n",
    "- The `BARCODE` field will lose leading zeros if stored as a numeric data type, which may compromise data integrity. To ensure accurate representation and maintain consistency, it should be stored as a string."
   ]
  },
  {
   "cell_type": "code",
   "execution_count": 5,
   "id": "dc843042-8193-4058-a34c-1f55b2f40cb8",
   "metadata": {},
   "outputs": [],
   "source": [
    "# Stored the BARCODE datatype to string\n",
    "product = pd.read_csv('PRODUCTS_TAKEHOME.csv', dtype={'BARCODE':str})\n",
    "\n",
    "product.name = 'product'"
   ]
  },
  {
   "cell_type": "markdown",
   "id": "f959ffe5-434b-4fed-bb51-3bb4d866cd54",
   "metadata": {},
   "source": [
    "## Product Table Overview"
   ]
  },
  {
   "cell_type": "code",
   "execution_count": 6,
   "id": "ece420e4-01dc-4800-b13f-43e4c34818d5",
   "metadata": {},
   "outputs": [
    {
     "name": "stdout",
     "output_type": "stream",
     "text": [
      "\n",
      "    Here is the result of the initial data check for of table 'product':\n",
      "\n",
      "    1. Basic Table Information:\n",
      "       - DataFrame has 845552 rows and 7 columns.\n",
      "    \n",
      "    2. Column Name Issues:\n",
      "       - No column names have extra spaces.\n",
      "       - No duplicate column names.\n",
      "\n",
      "    3. Data Type Overview:\n",
      "             Column Data Type  Null Values  Unique Values\n",
      "  CATEGORY_4    object       778093            127\n",
      "MANUFACTURER    object       226474           4354\n",
      "       BRAND    object       226472           8122\n",
      "  CATEGORY_3    object        60566            344\n",
      "     BARCODE    object         4025         841525\n",
      "  CATEGORY_2    object         1424            121\n",
      "  CATEGORY_1    object          111             27\n",
      "    \n",
      "    4. Potential Unique Identifiers in product table:\n",
      "       - No unique and non-null identifier detected.\n",
      "       - Invalid unique identifiers: BARCODE in product table has 4025 missing values (NaN)., BARCODE in product table has 2 duplicate values (excluding NaN).\n",
      "    \n",
      "    5. Null Column Analysis:\n",
      "       - Partially NULL columns: \n",
      "          - CATEGORY_4: 778093 missing (92.02%)\n",
      "          - MANUFACTURER: 226474 missing (26.78%)\n",
      "          - BRAND: 226472 missing (26.78%)\n",
      "          - CATEGORY_3: 60566 missing (7.16%)\n",
      "          - BARCODE: 4025 missing (0.48%)\n",
      "          - CATEGORY_2: 1424 missing (0.17%)\n",
      "          - CATEGORY_1: 111 missing (0.01%)\n",
      "    \n",
      "    6. Duplicate Row Analysis:\n",
      "       - There are 57 duplicate rows. Here are a few examples:\n",
      "       CATEGORY_1             CATEGORY_2                             CATEGORY_3     CATEGORY_4 MANUFACTURER       BRAND BARCODE\n",
      "          Alcohol                   Beer                                  Lager American Lager  MOLSONCOORS COORS LIGHT     NaN\n",
      "          Alcohol                   Beer                                  Lager American Lager  MOLSONCOORS COORS LIGHT     NaN\n",
      "Health & Wellness Medicines & Treatments Allergy & Sinus Medicines & Treatments            NaN       HALEON     FLONASE     NaN\n",
      "Health & Wellness Medicines & Treatments Allergy & Sinus Medicines & Treatments            NaN       HALEON     FLONASE     NaN\n",
      "Health & Wellness Medicines & Treatments Allergy & Sinus Medicines & Treatments            NaN       HALEON     FLONASE     NaN\n",
      "    \n",
      "    7. Mixed Data Type Check (e.g., numbers mixed with text): \n",
      "       - Columns with mixed data types: ['MANUFACTURER'].\n",
      "       - Different types in these columns:\n",
      "          - MANUFACTURER: string, numeric\n",
      "    \n",
      "    8. Date Validity Check (timestamps are valid): \n",
      "       - No date columns in this table.\n",
      "    \n",
      "    9. Date Order Check (check if receipt scan date is after purchase date):\n",
      "       - No related columns found.\n",
      "    \n",
      "    10. Date Order Check (check if customers account created date is after birth date):\n",
      "       - No related columns found.\n",
      "    \n",
      "    11. Data Consistency Check (check if STATE, LANGUAGE, and GENDER are consistent):\n",
      "       - No related columns found.\n",
      "    \n",
      "    12. Summary Statistics:\n",
      "       - No numeric columns found.\n",
      "        \n",
      "    \n",
      "\n",
      "    Action required:\n",
      "    - Resolve issues with unique identifiers: BARCODE in product table has 4025 missing values (NaN)., BARCODE in product table has 2 duplicate values (excluding NaN).\n",
      "    - Handle missing data: The following columns contain missing values:\n",
      "          - CATEGORY_4: 778093 missing (92.02%)\n",
      "          - MANUFACTURER: 226474 missing (26.78%)\n",
      "          - BRAND: 226472 missing (26.78%)\n",
      "          - CATEGORY_3: 60566 missing (7.16%)\n",
      "          - BARCODE: 4025 missing (0.48%)\n",
      "          - CATEGORY_2: 1424 missing (0.17%)\n",
      "          - CATEGORY_1: 111 missing (0.01%)\n",
      "    - Remove duplicate rows: Consider to remove 57 duplicate entries. Example rows: \n",
      "       CATEGORY_1             CATEGORY_2                             CATEGORY_3     CATEGORY_4 MANUFACTURER       BRAND BARCODE\n",
      "          Alcohol                   Beer                                  Lager American Lager  MOLSONCOORS COORS LIGHT     NaN\n",
      "          Alcohol                   Beer                                  Lager American Lager  MOLSONCOORS COORS LIGHT     NaN\n",
      "Health & Wellness Medicines & Treatments Allergy & Sinus Medicines & Treatments            NaN       HALEON     FLONASE     NaN\n",
      "Health & Wellness Medicines & Treatments Allergy & Sinus Medicines & Treatments            NaN       HALEON     FLONASE     NaN\n",
      "Health & Wellness Medicines & Treatments Allergy & Sinus Medicines & Treatments            NaN       HALEON     FLONASE     NaN\n",
      "    - Resolve mixed data type issues: Standardize data types in the following columns: ['MANUFACTURER'] to ensure consistency.\n",
      "\n",
      "    \n"
     ]
    }
   ],
   "source": [
    "print(print_summary(product))"
   ]
  },
  {
   "cell_type": "markdown",
   "id": "94754d6e-d221-4eee-ae0d-f2b4627ea6a2",
   "metadata": {},
   "source": [
    "## Data Cleaning"
   ]
  },
  {
   "cell_type": "markdown",
   "id": "e9f17a25-a3d7-4191-85c4-73762e73f979",
   "metadata": {},
   "source": [
    "**To Do Next**:\n",
    "\n",
    "1. **Unique Identifiers - BARCODE**: The `BARCODE` field is expected to be a unique identifier and could serve as the primary key. However, it contains both 4025 null values and 2 duplicate values. To maintain its integrity as a unique identifier, **consider removing the duplicates and addressing the null values**.\n",
    "\n",
    "2. **Missing Values**: The `CATEGORY_4` field is missing data in over 90% of records, indicating that this level of product categorization may be incomplete or inconsistently recorded. **Consider excluding this column from the dataset**.\n",
    "\n",
    "3. **Duplicate Rows**: There are 57 duplicate rows in the product table. **Consider removing the duplicate rows to ensure data consistency**.\n",
    "\n",
    "4. **Data Type Consistency - MANUFACTURER**: The `MANUFACTURER` field contains both numeric and string data types. To standardize the data, **consider converting the numeric values to string format**, or **removing the numeric values from the field**, ensuring consistency across the column."
   ]
  },
  {
   "cell_type": "markdown",
   "id": "5840cad6-9e03-4bba-9d21-ea2cdf50e7fc",
   "metadata": {},
   "source": [
    "### Remove duplicate BARCODE"
   ]
  },
  {
   "cell_type": "code",
   "execution_count": 7,
   "id": "74f728a4-e9b4-4e97-b105-9d3838194934",
   "metadata": {},
   "outputs": [
    {
     "data": {
      "text/html": [
       "<div>\n",
       "<style scoped>\n",
       "    .dataframe tbody tr th:only-of-type {\n",
       "        vertical-align: middle;\n",
       "    }\n",
       "\n",
       "    .dataframe tbody tr th {\n",
       "        vertical-align: top;\n",
       "    }\n",
       "\n",
       "    .dataframe thead th {\n",
       "        text-align: right;\n",
       "    }\n",
       "</style>\n",
       "<table border=\"1\" class=\"dataframe\">\n",
       "  <thead>\n",
       "    <tr style=\"text-align: right;\">\n",
       "      <th></th>\n",
       "      <th>CATEGORY_1</th>\n",
       "      <th>CATEGORY_2</th>\n",
       "      <th>CATEGORY_3</th>\n",
       "      <th>CATEGORY_4</th>\n",
       "      <th>MANUFACTURER</th>\n",
       "      <th>BRAND</th>\n",
       "      <th>BARCODE</th>\n",
       "    </tr>\n",
       "  </thead>\n",
       "  <tbody>\n",
       "    <tr>\n",
       "      <th>28421</th>\n",
       "      <td>Health &amp; Wellness</td>\n",
       "      <td>Hair Care</td>\n",
       "      <td>Hair Color</td>\n",
       "      <td>NaN</td>\n",
       "      <td>HENKEL</td>\n",
       "      <td>SCHWARZKOPF</td>\n",
       "      <td>052336919068</td>\n",
       "    </tr>\n",
       "    <tr>\n",
       "      <th>213340</th>\n",
       "      <td>Health &amp; Wellness</td>\n",
       "      <td>Hair Care</td>\n",
       "      <td>Hair Color</td>\n",
       "      <td>NaN</td>\n",
       "      <td>HENKEL</td>\n",
       "      <td>SCHWARZKOPF</td>\n",
       "      <td>017000329260</td>\n",
       "    </tr>\n",
       "    <tr>\n",
       "      <th>304021</th>\n",
       "      <td>Health &amp; Wellness</td>\n",
       "      <td>Hair Care</td>\n",
       "      <td>Hair Color</td>\n",
       "      <td>NaN</td>\n",
       "      <td>HENKEL</td>\n",
       "      <td>GÖT2B</td>\n",
       "      <td>017000329260</td>\n",
       "    </tr>\n",
       "    <tr>\n",
       "      <th>709607</th>\n",
       "      <td>Health &amp; Wellness</td>\n",
       "      <td>Hair Care</td>\n",
       "      <td>Hair Color</td>\n",
       "      <td>NaN</td>\n",
       "      <td>HENKEL</td>\n",
       "      <td>GÖT2B</td>\n",
       "      <td>052336919068</td>\n",
       "    </tr>\n",
       "  </tbody>\n",
       "</table>\n",
       "</div>"
      ],
      "text/plain": [
       "               CATEGORY_1 CATEGORY_2  CATEGORY_3 CATEGORY_4 MANUFACTURER  \\\n",
       "28421   Health & Wellness  Hair Care  Hair Color        NaN       HENKEL   \n",
       "213340  Health & Wellness  Hair Care  Hair Color        NaN       HENKEL   \n",
       "304021  Health & Wellness  Hair Care  Hair Color        NaN       HENKEL   \n",
       "709607  Health & Wellness  Hair Care  Hair Color        NaN       HENKEL   \n",
       "\n",
       "              BRAND       BARCODE  \n",
       "28421   SCHWARZKOPF  052336919068  \n",
       "213340  SCHWARZKOPF  017000329260  \n",
       "304021        GÖT2B  017000329260  \n",
       "709607        GÖT2B  052336919068  "
      ]
     },
     "execution_count": 7,
     "metadata": {},
     "output_type": "execute_result"
    }
   ],
   "source": [
    "# Get duplicate values in the 'BARCODE' column, excluding NaN values\n",
    "duplicate_barcodes = product[product['BARCODE'].notna() & product['BARCODE'].duplicated(keep=False)]\n",
    "\n",
    "# Display the duplicate BARCODE values\n",
    "duplicate_barcodes"
   ]
  },
  {
   "cell_type": "markdown",
   "id": "b1243f3f-0ca7-4591-8318-9dad7c559058",
   "metadata": {},
   "source": [
    "Notes:\n",
    "- The duplicate BARCODE values are 017000329260 and 052336919068. **Remove these duplicate barcodes** to maintain data integrity."
   ]
  },
  {
   "cell_type": "code",
   "execution_count": 8,
   "id": "2fe065c5-2142-4384-b2e2-42d27a2f5857",
   "metadata": {},
   "outputs": [],
   "source": [
    "# Remove rows where 'BARCODE' is '052336919068' or '017000329260'\n",
    "\n",
    "duplicate_barcodes = ['052336919068', '017000329260']\n",
    "product = product[~product['BARCODE'].isin(duplicate_barcodes)]"
   ]
  },
  {
   "cell_type": "markdown",
   "id": "ded5af82-bd04-4443-93b6-bababc31e0ca",
   "metadata": {},
   "source": [
    "### Remove null BARCODE"
   ]
  },
  {
   "cell_type": "code",
   "execution_count": 9,
   "id": "708ad6a3-83b6-4d3f-ad56-71f7d9e51143",
   "metadata": {},
   "outputs": [
    {
     "data": {
      "text/html": [
       "<div>\n",
       "<style scoped>\n",
       "    .dataframe tbody tr th:only-of-type {\n",
       "        vertical-align: middle;\n",
       "    }\n",
       "\n",
       "    .dataframe tbody tr th {\n",
       "        vertical-align: top;\n",
       "    }\n",
       "\n",
       "    .dataframe thead th {\n",
       "        text-align: right;\n",
       "    }\n",
       "</style>\n",
       "<table border=\"1\" class=\"dataframe\">\n",
       "  <thead>\n",
       "    <tr style=\"text-align: right;\">\n",
       "      <th></th>\n",
       "      <th>CATEGORY_1</th>\n",
       "      <th>CATEGORY_2</th>\n",
       "      <th>CATEGORY_3</th>\n",
       "      <th>CATEGORY_4</th>\n",
       "      <th>MANUFACTURER</th>\n",
       "      <th>BRAND</th>\n",
       "      <th>BARCODE</th>\n",
       "    </tr>\n",
       "  </thead>\n",
       "  <tbody>\n",
       "    <tr>\n",
       "      <th>9</th>\n",
       "      <td>Health &amp; Wellness</td>\n",
       "      <td>NaN</td>\n",
       "      <td>NaN</td>\n",
       "      <td>NaN</td>\n",
       "      <td>CHURCH &amp; DWIGHT</td>\n",
       "      <td>REPHRESH</td>\n",
       "      <td>NaN</td>\n",
       "    </tr>\n",
       "    <tr>\n",
       "      <th>124</th>\n",
       "      <td>Snacks</td>\n",
       "      <td>Jerky &amp; Dried Meat</td>\n",
       "      <td>NaN</td>\n",
       "      <td>NaN</td>\n",
       "      <td>CONAGRA</td>\n",
       "      <td>SLIM JIM</td>\n",
       "      <td>NaN</td>\n",
       "    </tr>\n",
       "    <tr>\n",
       "      <th>147</th>\n",
       "      <td>Snacks</td>\n",
       "      <td>Crackers</td>\n",
       "      <td>Wheat Crackers</td>\n",
       "      <td>NaN</td>\n",
       "      <td>KELLANOVA</td>\n",
       "      <td>CARR'S</td>\n",
       "      <td>NaN</td>\n",
       "    </tr>\n",
       "    <tr>\n",
       "      <th>365</th>\n",
       "      <td>Health &amp; Wellness</td>\n",
       "      <td>Hair Care</td>\n",
       "      <td>Shampoo</td>\n",
       "      <td>NaN</td>\n",
       "      <td>UNILEVER</td>\n",
       "      <td>APOTHECARE ESSENTIALS</td>\n",
       "      <td>NaN</td>\n",
       "    </tr>\n",
       "    <tr>\n",
       "      <th>428</th>\n",
       "      <td>Health &amp; Wellness</td>\n",
       "      <td>Eye Care</td>\n",
       "      <td>Contact Lens Solution</td>\n",
       "      <td>NaN</td>\n",
       "      <td>BAUSCH + LOMB CORPORATION</td>\n",
       "      <td>BAUSCH + LOMB</td>\n",
       "      <td>NaN</td>\n",
       "    </tr>\n",
       "    <tr>\n",
       "      <th>670</th>\n",
       "      <td>Health &amp; Wellness</td>\n",
       "      <td>Bath &amp; Body</td>\n",
       "      <td>Hand &amp; Body Lotions</td>\n",
       "      <td>NaN</td>\n",
       "      <td>COTY</td>\n",
       "      <td>MARC JACOBS FRAGRANCE &amp; BODY CARE</td>\n",
       "      <td>NaN</td>\n",
       "    </tr>\n",
       "    <tr>\n",
       "      <th>699</th>\n",
       "      <td>Health &amp; Wellness</td>\n",
       "      <td>Bath &amp; Body</td>\n",
       "      <td>NaN</td>\n",
       "      <td>NaN</td>\n",
       "      <td>SANOFI AVENTIS US LLC</td>\n",
       "      <td>GOLD BOND</td>\n",
       "      <td>NaN</td>\n",
       "    </tr>\n",
       "    <tr>\n",
       "      <th>838</th>\n",
       "      <td>Health &amp; Wellness</td>\n",
       "      <td>NaN</td>\n",
       "      <td>NaN</td>\n",
       "      <td>NaN</td>\n",
       "      <td>FRISKA</td>\n",
       "      <td>FRISKA</td>\n",
       "      <td>NaN</td>\n",
       "    </tr>\n",
       "    <tr>\n",
       "      <th>1840</th>\n",
       "      <td>Health &amp; Wellness</td>\n",
       "      <td>Bath &amp; Body</td>\n",
       "      <td>Hand Sanitizer Wipes</td>\n",
       "      <td>NaN</td>\n",
       "      <td>GEORGIA-PACIFIC</td>\n",
       "      <td>ANGEL SOFT</td>\n",
       "      <td>NaN</td>\n",
       "    </tr>\n",
       "    <tr>\n",
       "      <th>2075</th>\n",
       "      <td>Health &amp; Wellness</td>\n",
       "      <td>Skin Care</td>\n",
       "      <td>NaN</td>\n",
       "      <td>NaN</td>\n",
       "      <td>BEIERSDORF, INC.</td>\n",
       "      <td>COPPERTONE</td>\n",
       "      <td>NaN</td>\n",
       "    </tr>\n",
       "  </tbody>\n",
       "</table>\n",
       "</div>"
      ],
      "text/plain": [
       "             CATEGORY_1          CATEGORY_2             CATEGORY_3 CATEGORY_4  \\\n",
       "9     Health & Wellness                 NaN                    NaN        NaN   \n",
       "124              Snacks  Jerky & Dried Meat                    NaN        NaN   \n",
       "147              Snacks            Crackers         Wheat Crackers        NaN   \n",
       "365   Health & Wellness           Hair Care                Shampoo        NaN   \n",
       "428   Health & Wellness            Eye Care  Contact Lens Solution        NaN   \n",
       "670   Health & Wellness         Bath & Body    Hand & Body Lotions        NaN   \n",
       "699   Health & Wellness         Bath & Body                    NaN        NaN   \n",
       "838   Health & Wellness                 NaN                    NaN        NaN   \n",
       "1840  Health & Wellness         Bath & Body   Hand Sanitizer Wipes        NaN   \n",
       "2075  Health & Wellness           Skin Care                    NaN        NaN   \n",
       "\n",
       "                   MANUFACTURER                              BRAND BARCODE  \n",
       "9               CHURCH & DWIGHT                           REPHRESH     NaN  \n",
       "124                     CONAGRA                           SLIM JIM     NaN  \n",
       "147                   KELLANOVA                             CARR'S     NaN  \n",
       "365                    UNILEVER              APOTHECARE ESSENTIALS     NaN  \n",
       "428   BAUSCH + LOMB CORPORATION                      BAUSCH + LOMB     NaN  \n",
       "670                        COTY  MARC JACOBS FRAGRANCE & BODY CARE     NaN  \n",
       "699       SANOFI AVENTIS US LLC                          GOLD BOND     NaN  \n",
       "838                      FRISKA                             FRISKA     NaN  \n",
       "1840            GEORGIA-PACIFIC                         ANGEL SOFT     NaN  \n",
       "2075           BEIERSDORF, INC.                         COPPERTONE     NaN  "
      ]
     },
     "execution_count": 9,
     "metadata": {},
     "output_type": "execute_result"
    }
   ],
   "source": [
    "# Get null values in the 'BARCODE' column\n",
    "null_barcodes = product[product['BARCODE'].isna()]\n",
    "\n",
    "# Display the null BARCODE values\n",
    "null_barcodes.head(10)"
   ]
  },
  {
   "cell_type": "code",
   "execution_count": 10,
   "id": "690436c4-eb82-46f2-a04e-249105be1b4d",
   "metadata": {},
   "outputs": [],
   "source": [
    "# Remove rows where BARCODE is NaN\n",
    "\n",
    "product.dropna(subset=['BARCODE'], inplace=True)"
   ]
  },
  {
   "cell_type": "markdown",
   "id": "b002dd1a-545e-4bf6-a7bb-801a817acceb",
   "metadata": {},
   "source": [
    "### Remove Duplicate Rows"
   ]
  },
  {
   "cell_type": "code",
   "execution_count": 11,
   "id": "cd92b472-cada-4135-ab85-d097785e5df0",
   "metadata": {},
   "outputs": [],
   "source": [
    "# Remove duplicate rows, retaining the first occurrence.\n",
    "\n",
    "product.drop_duplicates(keep='first', inplace=True)"
   ]
  },
  {
   "cell_type": "markdown",
   "id": "86493441-eb53-4ae2-8819-c56329e99674",
   "metadata": {},
   "source": [
    "### Standardize MANUFACTURER data types"
   ]
  },
  {
   "cell_type": "code",
   "execution_count": 12,
   "id": "f193ac06-3a6f-447a-aff8-3e44993ffa33",
   "metadata": {},
   "outputs": [
    {
     "data": {
      "text/html": [
       "<div>\n",
       "<style scoped>\n",
       "    .dataframe tbody tr th:only-of-type {\n",
       "        vertical-align: middle;\n",
       "    }\n",
       "\n",
       "    .dataframe tbody tr th {\n",
       "        vertical-align: top;\n",
       "    }\n",
       "\n",
       "    .dataframe thead th {\n",
       "        text-align: right;\n",
       "    }\n",
       "</style>\n",
       "<table border=\"1\" class=\"dataframe\">\n",
       "  <thead>\n",
       "    <tr style=\"text-align: right;\">\n",
       "      <th></th>\n",
       "      <th>CATEGORY_1</th>\n",
       "      <th>CATEGORY_2</th>\n",
       "      <th>CATEGORY_3</th>\n",
       "      <th>CATEGORY_4</th>\n",
       "      <th>MANUFACTURER</th>\n",
       "      <th>BRAND</th>\n",
       "      <th>BARCODE</th>\n",
       "    </tr>\n",
       "  </thead>\n",
       "  <tbody>\n",
       "    <tr>\n",
       "      <th>38678</th>\n",
       "      <td>Health &amp; Wellness</td>\n",
       "      <td>Foot Care</td>\n",
       "      <td>Insoles &amp; Orthotics</td>\n",
       "      <td>NaN</td>\n",
       "      <td>5.11</td>\n",
       "      <td>5.11 TACTICAL</td>\n",
       "      <td>888579041750</td>\n",
       "    </tr>\n",
       "    <tr>\n",
       "      <th>98098</th>\n",
       "      <td>Health &amp; Wellness</td>\n",
       "      <td>Foot Care</td>\n",
       "      <td>Insoles &amp; Orthotics</td>\n",
       "      <td>NaN</td>\n",
       "      <td>5.11</td>\n",
       "      <td>5.11 TACTICAL</td>\n",
       "      <td>888579041606</td>\n",
       "    </tr>\n",
       "    <tr>\n",
       "      <th>118667</th>\n",
       "      <td>Health &amp; Wellness</td>\n",
       "      <td>Foot Care</td>\n",
       "      <td>Insoles &amp; Orthotics</td>\n",
       "      <td>NaN</td>\n",
       "      <td>5.11</td>\n",
       "      <td>5.11 TACTICAL</td>\n",
       "      <td>888579034523</td>\n",
       "    </tr>\n",
       "    <tr>\n",
       "      <th>132984</th>\n",
       "      <td>Health &amp; Wellness</td>\n",
       "      <td>Foot Care</td>\n",
       "      <td>Insoles &amp; Orthotics</td>\n",
       "      <td>NaN</td>\n",
       "      <td>5.11</td>\n",
       "      <td>5.11 TACTICAL</td>\n",
       "      <td>888579041514</td>\n",
       "    </tr>\n",
       "    <tr>\n",
       "      <th>149331</th>\n",
       "      <td>Health &amp; Wellness</td>\n",
       "      <td>Foot Care</td>\n",
       "      <td>Insoles &amp; Orthotics</td>\n",
       "      <td>NaN</td>\n",
       "      <td>5.11</td>\n",
       "      <td>5.11 TACTICAL</td>\n",
       "      <td>888579041637</td>\n",
       "    </tr>\n",
       "  </tbody>\n",
       "</table>\n",
       "</div>"
      ],
      "text/plain": [
       "               CATEGORY_1 CATEGORY_2           CATEGORY_3 CATEGORY_4  \\\n",
       "38678   Health & Wellness  Foot Care  Insoles & Orthotics        NaN   \n",
       "98098   Health & Wellness  Foot Care  Insoles & Orthotics        NaN   \n",
       "118667  Health & Wellness  Foot Care  Insoles & Orthotics        NaN   \n",
       "132984  Health & Wellness  Foot Care  Insoles & Orthotics        NaN   \n",
       "149331  Health & Wellness  Foot Care  Insoles & Orthotics        NaN   \n",
       "\n",
       "       MANUFACTURER          BRAND       BARCODE  \n",
       "38678          5.11  5.11 TACTICAL  888579041750  \n",
       "98098          5.11  5.11 TACTICAL  888579041606  \n",
       "118667         5.11  5.11 TACTICAL  888579034523  \n",
       "132984         5.11  5.11 TACTICAL  888579041514  \n",
       "149331         5.11  5.11 TACTICAL  888579041637  "
      ]
     },
     "execution_count": 12,
     "metadata": {},
     "output_type": "execute_result"
    }
   ],
   "source": [
    "# Check for numeric values in the 'MANUFACTURER' column\n",
    "numeric_manufacturer = product[pd.to_numeric(product['MANUFACTURER'], errors='coerce').notna()]\n",
    "\n",
    "# Display the results\n",
    "numeric_manufacturer.head()"
   ]
  },
  {
   "cell_type": "markdown",
   "id": "c071b5b8-5c44-49c8-bb8b-036b5b7952e7",
   "metadata": {},
   "source": [
    "Notes:\n",
    "\n",
    "- It turns out that 5.11 is a valid manufacturer name. **Convert it to a string to ensure it is stored correctly**."
   ]
  },
  {
   "cell_type": "code",
   "execution_count": 13,
   "id": "e07272ee-b4af-48dd-8e45-671f494523d7",
   "metadata": {},
   "outputs": [],
   "source": [
    "# Convert numeric values in the 'MANUFACTURER' column to strings\n",
    "\n",
    "product['MANUFACTURER'] = product['MANUFACTURER'].apply(lambda x: str(x) if isinstance(x, (int, float)) else x)"
   ]
  },
  {
   "cell_type": "markdown",
   "id": "4835379a-b3e8-4700-8cf2-2205d8e20132",
   "metadata": {},
   "source": [
    "# Transaction Table Analysis"
   ]
  },
  {
   "cell_type": "markdown",
   "id": "a10bab4f-000e-46b4-845d-ad3d26180627",
   "metadata": {},
   "source": [
    "### Key Data Quality Issues in the Transaction Table:\n",
    "\n",
    "**Missing Values:**\n",
    "- **BARCODE**: Contains **11.52% missing values** (5762 records), which may impact transaction mapping and product identification.\n",
    "- **FINAL_QUANTITY** and **FINAL_SALE**: Both fields have a mix of numeric and string values, and missing entries could affect overall data analysis, particularly in transaction totals.\n",
    "\n",
    "**Duplicate Values:**\n",
    "- **RECEIPT_ID**: There are **25,560 duplicate values** (excluding `NaN`), which undermine its effectiveness as a unique identifier for transactions.\n",
    "- **171 duplicate rows** exist in the table, leading to potential data inconsistencies and redundancy in reporting and analysis.\n",
    "\n",
    "**Mixed Data Types:**\n",
    "- **USER_ID**: Contains both **string** and **numeric** values, which may complicate analysis and reporting.\n",
    "- **FINAL_QUANTITY** and **FINAL_SALE**: These fields contain both **string** and **numeric** data types (e.g., the `FINAL_QUANTITY` column has string entries like 'ZERO' instead of numeric `0`), which need to be standardized for consistency.\n",
    "\n",
    "**Potential Unique Identifiers:**\n",
    "- **RECEIPT_ID**: Although it should serve as a unique identifier, it contains duplicates, making it unreliable for uniquely identifying transactions without further data cleaning.\n",
    "\n",
    "**Date Order Issues:**\n",
    "- **SCAN_DATE**: There are **94 rows** where **`scan_date`** is before **`purchase_date`**, which could lead to incorrect transaction data or impact the accuracy of time-based reporting.\n",
    "\n",
    "**Data Type Overview:**\n",
    "- **USER_ID**, **FINAL_QUANTITY**, and **FINAL_SALE**: These columns contain inconsistent data types (e.g., strings mixed with numeric values), which need to be standardized for consistent reporting.\n",
    "\n",
    "\n",
    "\n",
    "### Challenges to Understand:\n",
    "\n",
    "**Missing Values Impact:**\n",
    "- The **BARCODE** field has a significant proportion of missing values, which may affect transaction mapping accuracy.\n",
    "- Missing values in **FINAL_QUANTITY** and **FINAL_SALE** could distort transaction calculations, such as total sales or quantity sold. Understanding why these fields have missing values and filling or handling them appropriately is essential.\n",
    "\n",
    "**Duplicate RECEIPT_ID Entries:**\n",
    "- **RECEIPT_ID** is expected to be a unique identifier, but the presence of **25,560 duplicates** suggests that this field is not functioning as intended. Resolving this issue will be critical for ensuring data integrity and the accurate tracking of transactions.\n",
    "\n",
    "**Mixed Data Types:**\n",
    "- The **USER_ID**, **FINAL_QUANTITY**, and **FINAL_SALE** fields contain both **string** and **numeric** values, which will complicate analysis and reporting. A decision must be made on how to standardize these fields (e.g., converting strings to numbers where appropriate).\n",
    "\n",
    "**Date Order Issues:**\n",
    "- **SCAN_DATE** values occurring before **PURCHASE_DATE** need to be investigated further. This is critical to ensure that the transaction timeline is correct, especially for time-sensitive analyses or reporting.\n",
    "\n",
    "**Categorization Inconsistencies:**\n",
    "- Inconsistent or missing values in **FINAL_QUANTITY** and **FINAL_SALE** fields, especially with string values such as 'ZERO', point to the need for standardization and consistent data entry practices. Clarifying whether these fields should contain only numeric values and cleaning the data is necessary.\n",
    "\n",
    "**Data Redundancy:**\n",
    "- The **171 duplicate rows** must be removed to ensure that each transaction is only represented once in the data. This will help prevent skewed analysis and improve the reliability of any insights derived from the dataset."
   ]
  },
  {
   "cell_type": "code",
   "execution_count": 14,
   "id": "87408212-ef32-4920-bdb1-ae90b771f701",
   "metadata": {},
   "outputs": [
    {
     "data": {
      "text/html": [
       "<div>\n",
       "<style scoped>\n",
       "    .dataframe tbody tr th:only-of-type {\n",
       "        vertical-align: middle;\n",
       "    }\n",
       "\n",
       "    .dataframe tbody tr th {\n",
       "        vertical-align: top;\n",
       "    }\n",
       "\n",
       "    .dataframe thead th {\n",
       "        text-align: right;\n",
       "    }\n",
       "</style>\n",
       "<table border=\"1\" class=\"dataframe\">\n",
       "  <thead>\n",
       "    <tr style=\"text-align: right;\">\n",
       "      <th></th>\n",
       "      <th>RECEIPT_ID</th>\n",
       "      <th>PURCHASE_DATE</th>\n",
       "      <th>SCAN_DATE</th>\n",
       "      <th>STORE_NAME</th>\n",
       "      <th>USER_ID</th>\n",
       "      <th>BARCODE</th>\n",
       "      <th>FINAL_QUANTITY</th>\n",
       "      <th>FINAL_SALE</th>\n",
       "    </tr>\n",
       "  </thead>\n",
       "  <tbody>\n",
       "    <tr>\n",
       "      <th>0</th>\n",
       "      <td>0000d256-4041-4a3e-adc4-5623fb6e0c99</td>\n",
       "      <td>2024-08-21</td>\n",
       "      <td>2024-08-21 14:19:06.539 Z</td>\n",
       "      <td>WALMART</td>\n",
       "      <td>63b73a7f3d310dceeabd4758</td>\n",
       "      <td>1.530001e+10</td>\n",
       "      <td>1.00</td>\n",
       "      <td></td>\n",
       "    </tr>\n",
       "    <tr>\n",
       "      <th>1</th>\n",
       "      <td>0001455d-7a92-4a7b-a1d2-c747af1c8fd3</td>\n",
       "      <td>2024-07-20</td>\n",
       "      <td>2024-07-20 09:50:24.206 Z</td>\n",
       "      <td>ALDI</td>\n",
       "      <td>62c08877baa38d1a1f6c211a</td>\n",
       "      <td>NaN</td>\n",
       "      <td>zero</td>\n",
       "      <td>1.49</td>\n",
       "    </tr>\n",
       "    <tr>\n",
       "      <th>2</th>\n",
       "      <td>00017e0a-7851-42fb-bfab-0baa96e23586</td>\n",
       "      <td>2024-08-18</td>\n",
       "      <td>2024-08-19 15:38:56.813 Z</td>\n",
       "      <td>WALMART</td>\n",
       "      <td>60842f207ac8b7729e472020</td>\n",
       "      <td>7.874223e+10</td>\n",
       "      <td>1.00</td>\n",
       "      <td></td>\n",
       "    </tr>\n",
       "    <tr>\n",
       "      <th>3</th>\n",
       "      <td>000239aa-3478-453d-801e-66a82e39c8af</td>\n",
       "      <td>2024-06-18</td>\n",
       "      <td>2024-06-19 11:03:37.468 Z</td>\n",
       "      <td>FOOD LION</td>\n",
       "      <td>63fcd7cea4f8442c3386b589</td>\n",
       "      <td>7.833997e+11</td>\n",
       "      <td>zero</td>\n",
       "      <td>3.49</td>\n",
       "    </tr>\n",
       "    <tr>\n",
       "      <th>4</th>\n",
       "      <td>00026b4c-dfe8-49dd-b026-4c2f0fd5c6a1</td>\n",
       "      <td>2024-07-04</td>\n",
       "      <td>2024-07-05 15:56:43.549 Z</td>\n",
       "      <td>RANDALLS</td>\n",
       "      <td>6193231ae9b3d75037b0f928</td>\n",
       "      <td>4.790050e+10</td>\n",
       "      <td>1.00</td>\n",
       "      <td></td>\n",
       "    </tr>\n",
       "  </tbody>\n",
       "</table>\n",
       "</div>"
      ],
      "text/plain": [
       "                             RECEIPT_ID PURCHASE_DATE  \\\n",
       "0  0000d256-4041-4a3e-adc4-5623fb6e0c99    2024-08-21   \n",
       "1  0001455d-7a92-4a7b-a1d2-c747af1c8fd3    2024-07-20   \n",
       "2  00017e0a-7851-42fb-bfab-0baa96e23586    2024-08-18   \n",
       "3  000239aa-3478-453d-801e-66a82e39c8af    2024-06-18   \n",
       "4  00026b4c-dfe8-49dd-b026-4c2f0fd5c6a1    2024-07-04   \n",
       "\n",
       "                   SCAN_DATE STORE_NAME                   USER_ID  \\\n",
       "0  2024-08-21 14:19:06.539 Z    WALMART  63b73a7f3d310dceeabd4758   \n",
       "1  2024-07-20 09:50:24.206 Z       ALDI  62c08877baa38d1a1f6c211a   \n",
       "2  2024-08-19 15:38:56.813 Z    WALMART  60842f207ac8b7729e472020   \n",
       "3  2024-06-19 11:03:37.468 Z  FOOD LION  63fcd7cea4f8442c3386b589   \n",
       "4  2024-07-05 15:56:43.549 Z   RANDALLS  6193231ae9b3d75037b0f928   \n",
       "\n",
       "        BARCODE FINAL_QUANTITY FINAL_SALE  \n",
       "0  1.530001e+10           1.00             \n",
       "1           NaN           zero       1.49  \n",
       "2  7.874223e+10           1.00             \n",
       "3  7.833997e+11           zero       3.49  \n",
       "4  4.790050e+10           1.00             "
      ]
     },
     "execution_count": 14,
     "metadata": {},
     "output_type": "execute_result"
    }
   ],
   "source": [
    "transaction.head()"
   ]
  },
  {
   "cell_type": "markdown",
   "id": "48d7c11e-5758-48d2-867e-f637eb5ca8bf",
   "metadata": {},
   "source": [
    "Notes: \n",
    "\n",
    "- Similar to the `BARCODE` field in the product table, which is stored as a string to preserve leading zeros, this approach ensures no data is lost when leading zeros are significant, as would happen if stored as a numeric data type.\n"
   ]
  },
  {
   "cell_type": "code",
   "execution_count": 15,
   "id": "bb023a02-b1fe-4e3c-91c8-ff1615a6c004",
   "metadata": {},
   "outputs": [],
   "source": [
    "# Stored the BARCODE datatype to string\n",
    "transaction = pd.read_csv('TRANSACTION_TAKEHOME.csv', dtype={'BARCODE':str})\n",
    "\n",
    "transaction.name = 'transaction'"
   ]
  },
  {
   "cell_type": "code",
   "execution_count": 16,
   "id": "b73b30ea-b87b-497c-b349-141a2468a329",
   "metadata": {},
   "outputs": [],
   "source": [
    "# Convert 'PURCHASE_DATE' and 'SCAN_DATE' to datetime objects\n",
    "transaction['PURCHASE_DATE'] = pd.to_datetime(transaction['PURCHASE_DATE'], utc=True, errors='coerce')\n",
    "transaction['SCAN_DATE'] = pd.to_datetime(transaction['SCAN_DATE'], utc=True, errors='coerce')"
   ]
  },
  {
   "cell_type": "markdown",
   "id": "7718e3e0-d164-4a5a-b252-e2a0540653c4",
   "metadata": {},
   "source": [
    "## Transaction Table Overview"
   ]
  },
  {
   "cell_type": "code",
   "execution_count": 17,
   "id": "c2473252-9ca9-49c8-943d-79ad88743f1e",
   "metadata": {},
   "outputs": [
    {
     "name": "stdout",
     "output_type": "stream",
     "text": [
      "\n",
      "    Here is the result of the initial data check for of table 'transaction':\n",
      "\n",
      "    1. Basic Table Information:\n",
      "       - DataFrame has 50000 rows and 8 columns.\n",
      "    \n",
      "    2. Column Name Issues:\n",
      "       - No column names have extra spaces.\n",
      "       - No duplicate column names.\n",
      "\n",
      "    3. Data Type Overview:\n",
      "               Column           Data Type  Null Values  Unique Values\n",
      "       BARCODE              object         5762          11028\n",
      "    RECEIPT_ID              object            0          24440\n",
      "     SCAN_DATE datetime64[ns, UTC]            0          24440\n",
      " PURCHASE_DATE datetime64[ns, UTC]            0             89\n",
      "    STORE_NAME              object            0            954\n",
      "       USER_ID              object            0          17694\n",
      "FINAL_QUANTITY              object            0             87\n",
      "    FINAL_SALE              object            0           1435\n",
      "    \n",
      "    4. Potential Unique Identifiers in transaction table:\n",
      "       - No unique and non-null identifier detected.\n",
      "       - Invalid unique identifiers: RECEIPT_ID in transaction table has 25560 duplicate values (excluding NaN).\n",
      "    \n",
      "    5. Null Column Analysis:\n",
      "       - Partially NULL columns: \n",
      "          - BARCODE: 5762 missing (11.52%)\n",
      "    \n",
      "    6. Duplicate Row Analysis:\n",
      "       - There are 171 duplicate rows. Here are a few examples:\n",
      "                          RECEIPT_ID             PURCHASE_DATE                        SCAN_DATE             STORE_NAME                  USER_ID      BARCODE FINAL_QUANTITY FINAL_SALE\n",
      "007d3232-3990-497f-a081-549e9e7a478b 2024-06-25 00:00:00+00:00 2024-06-27 21:21:53.442000+00:00 DOLLAR TREE STORES INC 63a8dbf101cb7c888c6ad87d 079200060688           1.00       1.25\n",
      "007d3232-3990-497f-a081-549e9e7a478b 2024-06-25 00:00:00+00:00 2024-06-27 21:21:53.442000+00:00 DOLLAR TREE STORES INC 63a8dbf101cb7c888c6ad87d 079200060688           1.00       1.25\n",
      "01a70fe0-026f-4bea-9da4-7d13bbf21e9a 2024-09-02 00:00:00+00:00 2024-09-07 16:02:39.835000+00:00                WALMART 614e733372ba844aa8dc345e 041789001215           1.00       0.52\n",
      "01a70fe0-026f-4bea-9da4-7d13bbf21e9a 2024-09-02 00:00:00+00:00 2024-09-07 16:02:39.835000+00:00                WALMART 614e733372ba844aa8dc345e 041789001215           1.00       0.52\n",
      "0273cbd8-1620-46c9-8e99-6971e850a2fc 2024-09-08 00:00:00+00:00 2024-09-08 22:17:11.989000+00:00                WALMART 60e4f3ac34f82e1344669ee2 681131148320           1.00       3.48\n",
      "    \n",
      "    7. Mixed Data Type Check (e.g., numbers mixed with text): \n",
      "       - Columns with mixed data types: ['USER_ID', 'FINAL_QUANTITY', 'FINAL_SALE'].\n",
      "       - Different types in these columns:\n",
      "          - USER_ID: string, numeric\n",
      "          - FINAL_QUANTITY: numeric, string\n",
      "          - FINAL_SALE: string, numeric\n",
      "    \n",
      "    8. Date Validity Check (timestamps are valid): \n",
      "       - All date columns are valid.\n",
      "    \n",
      "    9. Date Order Check (check if receipt scan date is after purchase date):\n",
      "       - There are 94 rows where 'scan_date' is before 'purchase_date'.\n",
      "    \n",
      "    10. Date Order Check (check if customers account created date is after birth date):\n",
      "       - No related columns found.\n",
      "    \n",
      "    11. Data Consistency Check (check if STATE, LANGUAGE, and GENDER are consistent):\n",
      "       - No related columns found.\n",
      "    \n",
      "    12. Summary Statistics:\n",
      "       - No numeric columns found.\n",
      "        \n",
      "    \n",
      "\n",
      "    Action required:\n",
      "    - Resolve issues with unique identifiers: RECEIPT_ID in transaction table has 25560 duplicate values (excluding NaN).\n",
      "    - Handle missing data: The following columns contain missing values:\n",
      "          - BARCODE: 5762 missing (11.52%)\n",
      "    - Remove duplicate rows: Consider to remove 171 duplicate entries. Example rows: \n",
      "                          RECEIPT_ID             PURCHASE_DATE                        SCAN_DATE             STORE_NAME                  USER_ID      BARCODE FINAL_QUANTITY FINAL_SALE\n",
      "007d3232-3990-497f-a081-549e9e7a478b 2024-06-25 00:00:00+00:00 2024-06-27 21:21:53.442000+00:00 DOLLAR TREE STORES INC 63a8dbf101cb7c888c6ad87d 079200060688           1.00       1.25\n",
      "007d3232-3990-497f-a081-549e9e7a478b 2024-06-25 00:00:00+00:00 2024-06-27 21:21:53.442000+00:00 DOLLAR TREE STORES INC 63a8dbf101cb7c888c6ad87d 079200060688           1.00       1.25\n",
      "01a70fe0-026f-4bea-9da4-7d13bbf21e9a 2024-09-02 00:00:00+00:00 2024-09-07 16:02:39.835000+00:00                WALMART 614e733372ba844aa8dc345e 041789001215           1.00       0.52\n",
      "01a70fe0-026f-4bea-9da4-7d13bbf21e9a 2024-09-02 00:00:00+00:00 2024-09-07 16:02:39.835000+00:00                WALMART 614e733372ba844aa8dc345e 041789001215           1.00       0.52\n",
      "0273cbd8-1620-46c9-8e99-6971e850a2fc 2024-09-08 00:00:00+00:00 2024-09-08 22:17:11.989000+00:00                WALMART 60e4f3ac34f82e1344669ee2 681131148320           1.00       3.48\n",
      "    - Resolve mixed data type issues: Standardize data types in the following columns: ['USER_ID', 'FINAL_QUANTITY', 'FINAL_SALE'] to ensure consistency.\n",
      "    - Correct date order: 'scan_date' should be after 'purchase_date'. Found invalid entries in 94 rows.\n",
      "\n",
      "    \n"
     ]
    }
   ],
   "source": [
    "print(print_summary(transaction))"
   ]
  },
  {
   "cell_type": "markdown",
   "id": "f2df4a06-db05-4583-bb91-52122ebb0e25",
   "metadata": {},
   "source": [
    "## Data Cleaning"
   ]
  },
  {
   "cell_type": "markdown",
   "id": "0f55f126-3141-4677-b91a-0c46bff9837f",
   "metadata": {},
   "source": [
    "**To Do Next**:\n",
    "\n",
    "1. **Unique Identifiers - RECEIPT_ID**:  \n",
    "The `RECEIPT_ID` field is expected to be a unique identifier and could serve as the primary key. However, it contains 25,560 duplicate values. Further investigation is **needed to understand how receipt items are listed in the transaction table** and to determine whether the duplicate `RECEIPT_ID` values should be retained.\n",
    "\n",
    "3. **Missing Values - BARCODE**:  \n",
    "The `BARCODE` field is missing data in 12% of records. Since `BARCODE` serves as a foreign key to connect the Product table, **consider removing records with missing BARCODE values** to ensure accurate transaction mapping and reliable brand/manufacturer trend analysis.\n",
    "\n",
    "5. **Duplicate Rows**:  \n",
    "There are 171 duplicate rows in the product table. **Consider removing the duplicate rows** to ensure data consistency.\n",
    "\n",
    "7. **Data Type Consistency - USER_ID, FINAL_QUANTITY, FINAL_SALE**:  \n",
    "The `USER_ID`, `FINAL_QUANTITY`, `FINAL_SALE` fields contain both numeric and string data types. To standardize the data, **consider converting the numeric values to string format**, or **removing the numeric / string values from the field**, ensuring consistency across the column.\n",
    "\n",
    "9. **Data Outliers - FINAL_QUANTITY, FINAL_SALE**:  \n",
    "Convert the `FINAL_QUANTITY` and `FINAL_SALE` fields to numeric values and check for any abnormal data or outliers.\n",
    "\n",
    "11. **Data Accuracy - PURCHASE_DATE, SCAN_DATE**:  \n",
    "There exists 94 receipts where the `SCAN_DATE` **precedes** the `PURCHASE_DATE`, indicating data discrepancies. As a temporary solution, these **records should be removed** to maintain data consistency."
   ]
  },
  {
   "cell_type": "markdown",
   "id": "6b97619a-2288-4729-a6dc-f1a184b85a93",
   "metadata": {},
   "source": [
    "### Investigate on RECEIPT_ID & Standardize FINAL_QUANTITY and FINAL_SALE data types"
   ]
  },
  {
   "cell_type": "code",
   "execution_count": 18,
   "id": "cba6efd6-c065-4da9-9281-146ae730d4a2",
   "metadata": {
    "scrolled": true
   },
   "outputs": [
    {
     "data": {
      "text/html": [
       "<div>\n",
       "<style scoped>\n",
       "    .dataframe tbody tr th:only-of-type {\n",
       "        vertical-align: middle;\n",
       "    }\n",
       "\n",
       "    .dataframe tbody tr th {\n",
       "        vertical-align: top;\n",
       "    }\n",
       "\n",
       "    .dataframe thead th {\n",
       "        text-align: right;\n",
       "    }\n",
       "</style>\n",
       "<table border=\"1\" class=\"dataframe\">\n",
       "  <thead>\n",
       "    <tr style=\"text-align: right;\">\n",
       "      <th></th>\n",
       "      <th>RECEIPT_ID</th>\n",
       "      <th>PURCHASE_DATE</th>\n",
       "      <th>SCAN_DATE</th>\n",
       "      <th>STORE_NAME</th>\n",
       "      <th>USER_ID</th>\n",
       "      <th>BARCODE</th>\n",
       "      <th>FINAL_QUANTITY</th>\n",
       "      <th>FINAL_SALE</th>\n",
       "    </tr>\n",
       "  </thead>\n",
       "  <tbody>\n",
       "    <tr>\n",
       "      <th>0</th>\n",
       "      <td>0000d256-4041-4a3e-adc4-5623fb6e0c99</td>\n",
       "      <td>2024-08-21 00:00:00+00:00</td>\n",
       "      <td>2024-08-21 14:19:06.539000+00:00</td>\n",
       "      <td>WALMART</td>\n",
       "      <td>63b73a7f3d310dceeabd4758</td>\n",
       "      <td>015300014978</td>\n",
       "      <td>1.00</td>\n",
       "      <td></td>\n",
       "    </tr>\n",
       "    <tr>\n",
       "      <th>41567</th>\n",
       "      <td>0000d256-4041-4a3e-adc4-5623fb6e0c99</td>\n",
       "      <td>2024-08-21 00:00:00+00:00</td>\n",
       "      <td>2024-08-21 14:19:06.539000+00:00</td>\n",
       "      <td>WALMART</td>\n",
       "      <td>63b73a7f3d310dceeabd4758</td>\n",
       "      <td>015300014978</td>\n",
       "      <td>1.00</td>\n",
       "      <td>1.54</td>\n",
       "    </tr>\n",
       "    <tr>\n",
       "      <th>1</th>\n",
       "      <td>0001455d-7a92-4a7b-a1d2-c747af1c8fd3</td>\n",
       "      <td>2024-07-20 00:00:00+00:00</td>\n",
       "      <td>2024-07-20 09:50:24.206000+00:00</td>\n",
       "      <td>ALDI</td>\n",
       "      <td>62c08877baa38d1a1f6c211a</td>\n",
       "      <td>NaN</td>\n",
       "      <td>zero</td>\n",
       "      <td>1.49</td>\n",
       "    </tr>\n",
       "    <tr>\n",
       "      <th>39291</th>\n",
       "      <td>0001455d-7a92-4a7b-a1d2-c747af1c8fd3</td>\n",
       "      <td>2024-07-20 00:00:00+00:00</td>\n",
       "      <td>2024-07-20 09:50:24.206000+00:00</td>\n",
       "      <td>ALDI</td>\n",
       "      <td>62c08877baa38d1a1f6c211a</td>\n",
       "      <td>NaN</td>\n",
       "      <td>1.00</td>\n",
       "      <td>1.49</td>\n",
       "    </tr>\n",
       "    <tr>\n",
       "      <th>2</th>\n",
       "      <td>00017e0a-7851-42fb-bfab-0baa96e23586</td>\n",
       "      <td>2024-08-18 00:00:00+00:00</td>\n",
       "      <td>2024-08-19 15:38:56.813000+00:00</td>\n",
       "      <td>WALMART</td>\n",
       "      <td>60842f207ac8b7729e472020</td>\n",
       "      <td>078742229751</td>\n",
       "      <td>1.00</td>\n",
       "      <td></td>\n",
       "    </tr>\n",
       "    <tr>\n",
       "      <th>25928</th>\n",
       "      <td>00017e0a-7851-42fb-bfab-0baa96e23586</td>\n",
       "      <td>2024-08-18 00:00:00+00:00</td>\n",
       "      <td>2024-08-19 15:38:56.813000+00:00</td>\n",
       "      <td>WALMART</td>\n",
       "      <td>60842f207ac8b7729e472020</td>\n",
       "      <td>078742229751</td>\n",
       "      <td>1.00</td>\n",
       "      <td>2.54</td>\n",
       "    </tr>\n",
       "    <tr>\n",
       "      <th>3</th>\n",
       "      <td>000239aa-3478-453d-801e-66a82e39c8af</td>\n",
       "      <td>2024-06-18 00:00:00+00:00</td>\n",
       "      <td>2024-06-19 11:03:37.468000+00:00</td>\n",
       "      <td>FOOD LION</td>\n",
       "      <td>63fcd7cea4f8442c3386b589</td>\n",
       "      <td>783399746536</td>\n",
       "      <td>zero</td>\n",
       "      <td>3.49</td>\n",
       "    </tr>\n",
       "    <tr>\n",
       "      <th>41475</th>\n",
       "      <td>000239aa-3478-453d-801e-66a82e39c8af</td>\n",
       "      <td>2024-06-18 00:00:00+00:00</td>\n",
       "      <td>2024-06-19 11:03:37.468000+00:00</td>\n",
       "      <td>FOOD LION</td>\n",
       "      <td>63fcd7cea4f8442c3386b589</td>\n",
       "      <td>783399746536</td>\n",
       "      <td>1.00</td>\n",
       "      <td>3.49</td>\n",
       "    </tr>\n",
       "    <tr>\n",
       "      <th>43233</th>\n",
       "      <td>00026b4c-dfe8-49dd-b026-4c2f0fd5c6a1</td>\n",
       "      <td>2024-07-04 00:00:00+00:00</td>\n",
       "      <td>2024-07-05 15:56:43.549000+00:00</td>\n",
       "      <td>RANDALLS</td>\n",
       "      <td>6193231ae9b3d75037b0f928</td>\n",
       "      <td>047900501183</td>\n",
       "      <td>1.00</td>\n",
       "      <td>5.29</td>\n",
       "    </tr>\n",
       "    <tr>\n",
       "      <th>4</th>\n",
       "      <td>00026b4c-dfe8-49dd-b026-4c2f0fd5c6a1</td>\n",
       "      <td>2024-07-04 00:00:00+00:00</td>\n",
       "      <td>2024-07-05 15:56:43.549000+00:00</td>\n",
       "      <td>RANDALLS</td>\n",
       "      <td>6193231ae9b3d75037b0f928</td>\n",
       "      <td>047900501183</td>\n",
       "      <td>1.00</td>\n",
       "      <td></td>\n",
       "    </tr>\n",
       "  </tbody>\n",
       "</table>\n",
       "</div>"
      ],
      "text/plain": [
       "                                 RECEIPT_ID             PURCHASE_DATE  \\\n",
       "0      0000d256-4041-4a3e-adc4-5623fb6e0c99 2024-08-21 00:00:00+00:00   \n",
       "41567  0000d256-4041-4a3e-adc4-5623fb6e0c99 2024-08-21 00:00:00+00:00   \n",
       "1      0001455d-7a92-4a7b-a1d2-c747af1c8fd3 2024-07-20 00:00:00+00:00   \n",
       "39291  0001455d-7a92-4a7b-a1d2-c747af1c8fd3 2024-07-20 00:00:00+00:00   \n",
       "2      00017e0a-7851-42fb-bfab-0baa96e23586 2024-08-18 00:00:00+00:00   \n",
       "25928  00017e0a-7851-42fb-bfab-0baa96e23586 2024-08-18 00:00:00+00:00   \n",
       "3      000239aa-3478-453d-801e-66a82e39c8af 2024-06-18 00:00:00+00:00   \n",
       "41475  000239aa-3478-453d-801e-66a82e39c8af 2024-06-18 00:00:00+00:00   \n",
       "43233  00026b4c-dfe8-49dd-b026-4c2f0fd5c6a1 2024-07-04 00:00:00+00:00   \n",
       "4      00026b4c-dfe8-49dd-b026-4c2f0fd5c6a1 2024-07-04 00:00:00+00:00   \n",
       "\n",
       "                             SCAN_DATE STORE_NAME                   USER_ID  \\\n",
       "0     2024-08-21 14:19:06.539000+00:00    WALMART  63b73a7f3d310dceeabd4758   \n",
       "41567 2024-08-21 14:19:06.539000+00:00    WALMART  63b73a7f3d310dceeabd4758   \n",
       "1     2024-07-20 09:50:24.206000+00:00       ALDI  62c08877baa38d1a1f6c211a   \n",
       "39291 2024-07-20 09:50:24.206000+00:00       ALDI  62c08877baa38d1a1f6c211a   \n",
       "2     2024-08-19 15:38:56.813000+00:00    WALMART  60842f207ac8b7729e472020   \n",
       "25928 2024-08-19 15:38:56.813000+00:00    WALMART  60842f207ac8b7729e472020   \n",
       "3     2024-06-19 11:03:37.468000+00:00  FOOD LION  63fcd7cea4f8442c3386b589   \n",
       "41475 2024-06-19 11:03:37.468000+00:00  FOOD LION  63fcd7cea4f8442c3386b589   \n",
       "43233 2024-07-05 15:56:43.549000+00:00   RANDALLS  6193231ae9b3d75037b0f928   \n",
       "4     2024-07-05 15:56:43.549000+00:00   RANDALLS  6193231ae9b3d75037b0f928   \n",
       "\n",
       "            BARCODE FINAL_QUANTITY FINAL_SALE  \n",
       "0      015300014978           1.00             \n",
       "41567  015300014978           1.00       1.54  \n",
       "1               NaN           zero       1.49  \n",
       "39291           NaN           1.00       1.49  \n",
       "2      078742229751           1.00             \n",
       "25928  078742229751           1.00       2.54  \n",
       "3      783399746536           zero       3.49  \n",
       "41475  783399746536           1.00       3.49  \n",
       "43233  047900501183           1.00       5.29  \n",
       "4      047900501183           1.00             "
      ]
     },
     "execution_count": 18,
     "metadata": {},
     "output_type": "execute_result"
    }
   ],
   "source": [
    "# Get duplicate values in the 'RECEIPT_ID' column\n",
    "\n",
    "transaction[transaction['RECEIPT_ID'].duplicated(keep=False)].sort_values(by='RECEIPT_ID').head(10)"
   ]
  },
  {
   "cell_type": "markdown",
   "id": "f4890948-64ae-4984-b741-7fc12ad04351",
   "metadata": {},
   "source": [
    "Notes:\n",
    "- **Duplicate `RECEIPT_ID` Entries**: Purchased items are recorded twice under the same `RECEIPT_ID`, but there are missing values in either the **final quantity** or **final sale** fields.\n",
    "\n",
    "    - For example, for `RECEIPT_ID` **0000d256-4041-4a3e-adc4-5623fb6e0c99**, two items purchased on **08/21/2024** from **Walmart** are recorded. The barcodes are the same, but one entry has a **final sale** of **1.54**, while the other has an empty value.\n",
    "\n",
    "- **Inconsistent Data Types**: There are inconsistencies in the data types within the **final quantity** and **final sale** fields.\n",
    "\n",
    "    - For example, the **final quantity** field contains the string `'ZERO'` instead of the integer `0`.\n",
    "\n",
    "\n",
    "Solutions:\n",
    "\n",
    "- Standardize the `FINAL_QUANTITY` and `FINAL_SALE` data types first. \n",
    "- To resolve this, **standardize the values for the duplicate `RECEIPT_ID` entries**. If there are discrepancies in the **final sale** or **final quantity** fields, **consider to fill in the missing values with the maximum values from either the final_sale or final_quantity field**.\n",
    "- After standardizing, **remove the duplicate entries** to ensure that only one record per purchase remains."
   ]
  },
  {
   "cell_type": "markdown",
   "id": "7c500e28-04a9-4131-afd7-10048a05879c",
   "metadata": {},
   "source": [
    "#### Standardize FINAL_QUANTITY and FINAL_SALE data types"
   ]
  },
  {
   "cell_type": "code",
   "execution_count": 19,
   "id": "9e085204-6688-4fb2-bd24-8c56e89b643b",
   "metadata": {},
   "outputs": [
    {
     "data": {
      "text/plain": [
       "array(['1.00', 'zero', '2.00', '3.00', '4.00', '4.55', '2.83', '2.34',\n",
       "       '0.46', '7.00', '18.00', '12.00', '5.00', '2.17', '0.23', '8.00',\n",
       "       '1.35', '0.09', '2.58', '1.47', '16.00', '0.62', '1.24', '1.40',\n",
       "       '0.51', '0.53', '1.69', '6.00', '2.39', '2.60', '10.00', '0.86',\n",
       "       '1.54', '1.88', '2.93', '1.28', '0.65', '2.89', '1.44', '2.75',\n",
       "       '1.81', '276.00', '0.87', '2.10', '3.33', '2.54', '2.20', '1.93',\n",
       "       '1.34', '1.13', '2.19', '0.83', '2.61', '0.28', '1.50', '0.97',\n",
       "       '0.24', '1.18', '6.22', '1.22', '1.23', '2.57', '1.07', '2.11',\n",
       "       '0.48', '9.00', '3.11', '1.08', '5.53', '1.89', '0.01', '2.18',\n",
       "       '1.99', '0.04', '2.25', '1.37', '3.02', '0.35', '0.99', '1.80',\n",
       "       '3.24', '0.94', '2.04', '3.69', '0.70', '2.52', '2.27'],\n",
       "      dtype=object)"
      ]
     },
     "execution_count": 19,
     "metadata": {},
     "output_type": "execute_result"
    }
   ],
   "source": [
    "# check what strings include in FINAL_QUANTITY field\n",
    "transaction['FINAL_QUANTITY'].unique()"
   ]
  },
  {
   "cell_type": "markdown",
   "id": "62b54395-e9f5-4dda-9c47-387eb9c180c8",
   "metadata": {},
   "source": [
    "Note: \n",
    "- The `final quantity` field contains the string 'ZERO' instead of the integer 0. **Consider converting to a numeric format** to enable accurate quantity calculations."
   ]
  },
  {
   "cell_type": "code",
   "execution_count": 20,
   "id": "a726046d-f7ce-4f3e-87d0-a3504a18fa27",
   "metadata": {},
   "outputs": [],
   "source": [
    "# Replace 'zero' with 0.00 and convert to float\n",
    "transaction['FINAL_QUANTITY'] = transaction['FINAL_QUANTITY'].replace('zero', '0.00')\n",
    "transaction['FINAL_QUANTITY'] = transaction['FINAL_QUANTITY'].astype(float)"
   ]
  },
  {
   "cell_type": "code",
   "execution_count": 21,
   "id": "3d86683c-4973-42d8-8a29-5b586c75019e",
   "metadata": {},
   "outputs": [
    {
     "data": {
      "text/plain": [
       "array([' ', '1.49', '3.49', ..., '11.02', '20.17', '42.38'],\n",
       "      shape=(1435,), dtype=object)"
      ]
     },
     "execution_count": 21,
     "metadata": {},
     "output_type": "execute_result"
    }
   ],
   "source": [
    "# check what strings include in FINAL_QUANTITY field\n",
    "transaction['FINAL_SALE'].unique()"
   ]
  },
  {
   "cell_type": "markdown",
   "id": "9dd29fb1-212f-4f80-a2ca-0c33d3a87ad3",
   "metadata": {},
   "source": [
    "Note: \n",
    "- The `final sale` field contains empty spaces instead of integer 0. **Consider converting these empty spaces to integer 0** to standardize the data."
   ]
  },
  {
   "cell_type": "code",
   "execution_count": 22,
   "id": "9bffef3f-4e8b-45b0-a348-6ffd55b44801",
   "metadata": {},
   "outputs": [],
   "source": [
    "# Replace 'zero' with 0.00 and convert to float\n",
    "transaction['FINAL_SALE'] = transaction['FINAL_SALE'].replace(' ', '0.00')\n",
    "transaction['FINAL_SALE'] = transaction['FINAL_SALE'].astype(float)"
   ]
  },
  {
   "cell_type": "markdown",
   "id": "dbaaf562-c79c-43f3-a1bd-ce7446b5be70",
   "metadata": {},
   "source": [
    "#### Check FINAL_QUANTITY and FINAL_SALE data range"
   ]
  },
  {
   "cell_type": "code",
   "execution_count": 23,
   "id": "2f45ef75-55be-4673-bcca-9afe3fa9c157",
   "metadata": {},
   "outputs": [
    {
     "data": {
      "text/html": [
       "<div>\n",
       "<style scoped>\n",
       "    .dataframe tbody tr th:only-of-type {\n",
       "        vertical-align: middle;\n",
       "    }\n",
       "\n",
       "    .dataframe tbody tr th {\n",
       "        vertical-align: top;\n",
       "    }\n",
       "\n",
       "    .dataframe thead th {\n",
       "        text-align: right;\n",
       "    }\n",
       "</style>\n",
       "<table border=\"1\" class=\"dataframe\">\n",
       "  <thead>\n",
       "    <tr style=\"text-align: right;\">\n",
       "      <th></th>\n",
       "      <th>FINAL_QUANTITY</th>\n",
       "      <th>FINAL_SALE</th>\n",
       "    </tr>\n",
       "  </thead>\n",
       "  <tbody>\n",
       "    <tr>\n",
       "      <th>count</th>\n",
       "      <td>50000.000000</td>\n",
       "      <td>50000.000000</td>\n",
       "    </tr>\n",
       "    <tr>\n",
       "      <th>mean</th>\n",
       "      <td>0.814427</td>\n",
       "      <td>3.432288</td>\n",
       "    </tr>\n",
       "    <tr>\n",
       "      <th>std</th>\n",
       "      <td>1.841794</td>\n",
       "      <td>6.070526</td>\n",
       "    </tr>\n",
       "    <tr>\n",
       "      <th>min</th>\n",
       "      <td>0.000000</td>\n",
       "      <td>0.000000</td>\n",
       "    </tr>\n",
       "    <tr>\n",
       "      <th>25%</th>\n",
       "      <td>0.007500</td>\n",
       "      <td>0.000000</td>\n",
       "    </tr>\n",
       "    <tr>\n",
       "      <th>50%</th>\n",
       "      <td>1.000000</td>\n",
       "      <td>2.180000</td>\n",
       "    </tr>\n",
       "    <tr>\n",
       "      <th>75%</th>\n",
       "      <td>1.000000</td>\n",
       "      <td>4.440000</td>\n",
       "    </tr>\n",
       "    <tr>\n",
       "      <th>max</th>\n",
       "      <td>276.000000</td>\n",
       "      <td>462.820000</td>\n",
       "    </tr>\n",
       "  </tbody>\n",
       "</table>\n",
       "</div>"
      ],
      "text/plain": [
       "       FINAL_QUANTITY    FINAL_SALE\n",
       "count    50000.000000  50000.000000\n",
       "mean         0.814427      3.432288\n",
       "std          1.841794      6.070526\n",
       "min          0.000000      0.000000\n",
       "25%          0.007500      0.000000\n",
       "50%          1.000000      2.180000\n",
       "75%          1.000000      4.440000\n",
       "max        276.000000    462.820000"
      ]
     },
     "execution_count": 23,
     "metadata": {},
     "output_type": "execute_result"
    }
   ],
   "source": [
    "transaction.describe(include=np.number)"
   ]
  },
  {
   "cell_type": "markdown",
   "id": "2376286c-348b-4b22-a74f-20aaadfd1ff7",
   "metadata": {},
   "source": [
    "Note: \n",
    "- An outlier receipt with an unusually high `FINAL_QUANTITY` value of 276 and `FINAL_SALE` value of 462.82 was identified. Further investigation is needed to **determine whether to remove these potentially unrealistic data points**."
   ]
  },
  {
   "cell_type": "code",
   "execution_count": 24,
   "id": "3ea6bbb4-00de-4240-b96e-7ee67e73a8b8",
   "metadata": {},
   "outputs": [
    {
     "data": {
      "text/html": [
       "<div>\n",
       "<style scoped>\n",
       "    .dataframe tbody tr th:only-of-type {\n",
       "        vertical-align: middle;\n",
       "    }\n",
       "\n",
       "    .dataframe tbody tr th {\n",
       "        vertical-align: top;\n",
       "    }\n",
       "\n",
       "    .dataframe thead th {\n",
       "        text-align: right;\n",
       "    }\n",
       "</style>\n",
       "<table border=\"1\" class=\"dataframe\">\n",
       "  <thead>\n",
       "    <tr style=\"text-align: right;\">\n",
       "      <th></th>\n",
       "      <th>RECEIPT_ID</th>\n",
       "      <th>PURCHASE_DATE</th>\n",
       "      <th>SCAN_DATE</th>\n",
       "      <th>STORE_NAME</th>\n",
       "      <th>USER_ID</th>\n",
       "      <th>BARCODE</th>\n",
       "      <th>FINAL_QUANTITY</th>\n",
       "      <th>FINAL_SALE</th>\n",
       "    </tr>\n",
       "  </thead>\n",
       "  <tbody>\n",
       "    <tr>\n",
       "      <th>13617</th>\n",
       "      <td>8bbb09f6-aae6-47ae-88af-7cd46cc8079d</td>\n",
       "      <td>2024-07-06 00:00:00+00:00</td>\n",
       "      <td>2024-07-06 15:01:20.305000+00:00</td>\n",
       "      <td>CVS</td>\n",
       "      <td>630789e1101ae272a4852287</td>\n",
       "      <td>NaN</td>\n",
       "      <td>0.0</td>\n",
       "      <td>462.82</td>\n",
       "    </tr>\n",
       "    <tr>\n",
       "      <th>24810</th>\n",
       "      <td>fe0780d1-2d02-4822-8f12-7056b1814f17</td>\n",
       "      <td>2024-08-09 00:00:00+00:00</td>\n",
       "      <td>2024-08-11 17:52:18.523000+00:00</td>\n",
       "      <td>MAIN STREET MARKET</td>\n",
       "      <td>5d197f9dd08976510c49d0e6</td>\n",
       "      <td>048001353664</td>\n",
       "      <td>276.0</td>\n",
       "      <td>0.00</td>\n",
       "    </tr>\n",
       "    <tr>\n",
       "      <th>26692</th>\n",
       "      <td>8bbb09f6-aae6-47ae-88af-7cd46cc8079d</td>\n",
       "      <td>2024-07-06 00:00:00+00:00</td>\n",
       "      <td>2024-07-06 15:01:20.305000+00:00</td>\n",
       "      <td>CVS</td>\n",
       "      <td>630789e1101ae272a4852287</td>\n",
       "      <td>NaN</td>\n",
       "      <td>1.0</td>\n",
       "      <td>462.82</td>\n",
       "    </tr>\n",
       "    <tr>\n",
       "      <th>42410</th>\n",
       "      <td>fe0780d1-2d02-4822-8f12-7056b1814f17</td>\n",
       "      <td>2024-08-09 00:00:00+00:00</td>\n",
       "      <td>2024-08-11 17:52:18.523000+00:00</td>\n",
       "      <td>MAIN STREET MARKET</td>\n",
       "      <td>5d197f9dd08976510c49d0e6</td>\n",
       "      <td>048001353664</td>\n",
       "      <td>276.0</td>\n",
       "      <td>5.89</td>\n",
       "    </tr>\n",
       "  </tbody>\n",
       "</table>\n",
       "</div>"
      ],
      "text/plain": [
       "                                 RECEIPT_ID             PURCHASE_DATE  \\\n",
       "13617  8bbb09f6-aae6-47ae-88af-7cd46cc8079d 2024-07-06 00:00:00+00:00   \n",
       "24810  fe0780d1-2d02-4822-8f12-7056b1814f17 2024-08-09 00:00:00+00:00   \n",
       "26692  8bbb09f6-aae6-47ae-88af-7cd46cc8079d 2024-07-06 00:00:00+00:00   \n",
       "42410  fe0780d1-2d02-4822-8f12-7056b1814f17 2024-08-09 00:00:00+00:00   \n",
       "\n",
       "                             SCAN_DATE          STORE_NAME  \\\n",
       "13617 2024-07-06 15:01:20.305000+00:00                 CVS   \n",
       "24810 2024-08-11 17:52:18.523000+00:00  MAIN STREET MARKET   \n",
       "26692 2024-07-06 15:01:20.305000+00:00                 CVS   \n",
       "42410 2024-08-11 17:52:18.523000+00:00  MAIN STREET MARKET   \n",
       "\n",
       "                        USER_ID       BARCODE  FINAL_QUANTITY  FINAL_SALE  \n",
       "13617  630789e1101ae272a4852287           NaN             0.0      462.82  \n",
       "24810  5d197f9dd08976510c49d0e6  048001353664           276.0        0.00  \n",
       "26692  630789e1101ae272a4852287           NaN             1.0      462.82  \n",
       "42410  5d197f9dd08976510c49d0e6  048001353664           276.0        5.89  "
      ]
     },
     "execution_count": 24,
     "metadata": {},
     "output_type": "execute_result"
    }
   ],
   "source": [
    "# Check the receipt records with final_quantity = 276 and final_sale = 462.82\n",
    "\n",
    "transaction[(transaction['FINAL_QUANTITY'] == 276) | (transaction['FINAL_SALE'] == 462.820000)]"
   ]
  },
  {
   "cell_type": "markdown",
   "id": "fe82517b-48f0-4440-bb38-dd13d7154a52",
   "metadata": {},
   "source": [
    "Note:\n",
    "- It seems unrealistic to buy **276 items** with a **final sale** of **5.89**, or purchase **one item from CVS** with a **final sale** of **462.82**. Therefore, records with **`FINAL_QUANTITY` = 276** and **`FINAL_SALE` = 462.82** will be removed to maintain data accuracy."
   ]
  },
  {
   "cell_type": "code",
   "execution_count": 25,
   "id": "8922cf56-c2f7-4226-96cc-b316271538dc",
   "metadata": {},
   "outputs": [],
   "source": [
    "#  # Remove records where FINAL_QUANTITY = 276 and FINAL_SALE = 462.82\n",
    "\n",
    "transaction = transaction[~((transaction['FINAL_QUANTITY'] == 276) & (transaction['FINAL_SALE'] == 462.820000))]"
   ]
  },
  {
   "cell_type": "markdown",
   "id": "f305674e-2668-4b55-8ee6-ebce72034776",
   "metadata": {},
   "source": [
    "#### Merge duplicate RECEIPT_ID \n",
    "\n",
    "Merge the duplicate `receipt_id` entries by filling the missing values with the **maximum value** from either the `final_sale` or `final_quantity` field."
   ]
  },
  {
   "cell_type": "code",
   "execution_count": 26,
   "id": "b4369b74-76bb-4807-a94d-0753b8a8df48",
   "metadata": {},
   "outputs": [],
   "source": [
    "# Group by all columns except FINAL_QUANTITY and FINAL_SALE\n",
    "grouped = transaction.groupby(['RECEIPT_ID', 'PURCHASE_DATE', 'SCAN_DATE', 'STORE_NAME', 'USER_ID', 'BARCODE'])\n",
    "\n",
    "# Apply aggregation to handle duplicate receipts\n",
    "transaction = grouped.agg(\n",
    "    {\n",
    "        'FINAL_QUANTITY': 'max',  # Keep the maximum FINAL_QUANTITY\n",
    "        'FINAL_SALE': 'max'       # Keep the maximum FINAL_SALE\n",
    "    }\n",
    ").reset_index()"
   ]
  },
  {
   "cell_type": "markdown",
   "id": "6745b88e-2b99-456b-9cd1-aeb95f5e892f",
   "metadata": {},
   "source": [
    "### Standardize USER_ID data types"
   ]
  },
  {
   "cell_type": "code",
   "execution_count": 27,
   "id": "4009f1ff-cd69-4df9-a919-69fb99a2510b",
   "metadata": {},
   "outputs": [
    {
     "data": {
      "text/html": [
       "<div>\n",
       "<style scoped>\n",
       "    .dataframe tbody tr th:only-of-type {\n",
       "        vertical-align: middle;\n",
       "    }\n",
       "\n",
       "    .dataframe tbody tr th {\n",
       "        vertical-align: top;\n",
       "    }\n",
       "\n",
       "    .dataframe thead th {\n",
       "        text-align: right;\n",
       "    }\n",
       "</style>\n",
       "<table border=\"1\" class=\"dataframe\">\n",
       "  <thead>\n",
       "    <tr style=\"text-align: right;\">\n",
       "      <th></th>\n",
       "      <th>RECEIPT_ID</th>\n",
       "      <th>PURCHASE_DATE</th>\n",
       "      <th>SCAN_DATE</th>\n",
       "      <th>STORE_NAME</th>\n",
       "      <th>USER_ID</th>\n",
       "      <th>BARCODE</th>\n",
       "      <th>FINAL_QUANTITY</th>\n",
       "      <th>FINAL_SALE</th>\n",
       "    </tr>\n",
       "  </thead>\n",
       "  <tbody>\n",
       "    <tr>\n",
       "      <th>1562</th>\n",
       "      <td>123e4e14-96ba-4e48-88ba-01c40a7f8a63</td>\n",
       "      <td>2024-06-24 00:00:00+00:00</td>\n",
       "      <td>2024-07-01 13:46:16.242000+00:00</td>\n",
       "      <td>WALMART</td>\n",
       "      <td>635332771020216633290897</td>\n",
       "      <td>051500255162</td>\n",
       "      <td>1.0</td>\n",
       "      <td>3.12</td>\n",
       "    </tr>\n",
       "    <tr>\n",
       "      <th>21633</th>\n",
       "      <td>fbfc5143-2b6e-4045-8c41-73cb530b4e78</td>\n",
       "      <td>2024-09-01 00:00:00+00:00</td>\n",
       "      <td>2024-09-01 21:59:19.874000+00:00</td>\n",
       "      <td>SAM'S CLUB</td>\n",
       "      <td>6211728204717e7604896941</td>\n",
       "      <td>030000561959</td>\n",
       "      <td>1.0</td>\n",
       "      <td>10.98</td>\n",
       "    </tr>\n",
       "  </tbody>\n",
       "</table>\n",
       "</div>"
      ],
      "text/plain": [
       "                                 RECEIPT_ID             PURCHASE_DATE  \\\n",
       "1562   123e4e14-96ba-4e48-88ba-01c40a7f8a63 2024-06-24 00:00:00+00:00   \n",
       "21633  fbfc5143-2b6e-4045-8c41-73cb530b4e78 2024-09-01 00:00:00+00:00   \n",
       "\n",
       "                             SCAN_DATE  STORE_NAME                   USER_ID  \\\n",
       "1562  2024-07-01 13:46:16.242000+00:00     WALMART  635332771020216633290897   \n",
       "21633 2024-09-01 21:59:19.874000+00:00  SAM'S CLUB  6211728204717e7604896941   \n",
       "\n",
       "            BARCODE  FINAL_QUANTITY  FINAL_SALE  \n",
       "1562   051500255162             1.0        3.12  \n",
       "21633  030000561959             1.0       10.98  "
      ]
     },
     "execution_count": 27,
     "metadata": {},
     "output_type": "execute_result"
    }
   ],
   "source": [
    "# Check for numeric values in the 'USER_ID' column\n",
    "\n",
    "transaction[pd.to_numeric(transaction['USER_ID'], errors='coerce').notna()]"
   ]
  },
  {
   "cell_type": "markdown",
   "id": "15210bd0-c717-48d9-a668-bf7f58029262",
   "metadata": {},
   "source": [
    "Note: \n",
    "- The USER_ID values are already in the correct numeric format. Leave them as they are."
   ]
  },
  {
   "cell_type": "markdown",
   "id": "bbf1d436-3aad-444f-95de-e59d0e8308ac",
   "metadata": {},
   "source": [
    "### Remove null BARCODE"
   ]
  },
  {
   "cell_type": "code",
   "execution_count": 28,
   "id": "bff24cc1-2f12-418b-befc-74f19c530e12",
   "metadata": {},
   "outputs": [],
   "source": [
    "# Remove rows where 'BARCODE' is null in the transaction dataframe\n",
    "\n",
    "transaction.dropna(subset=['BARCODE'], inplace=True)"
   ]
  },
  {
   "cell_type": "markdown",
   "id": "e24e12da-9a67-4922-b8ba-db42fd926c55",
   "metadata": {},
   "source": [
    "### Remove Duplicate Rows "
   ]
  },
  {
   "cell_type": "code",
   "execution_count": 29,
   "id": "b15b0df5-c1c0-4193-9ed7-f30fc0744127",
   "metadata": {},
   "outputs": [],
   "source": [
    "# Remove duplicate rows, retaining the first occurrence.\n",
    "\n",
    "transaction.drop_duplicates(keep='first', inplace=True)"
   ]
  },
  {
   "cell_type": "markdown",
   "id": "7117bc11-9921-48e5-83b3-c45276369f63",
   "metadata": {},
   "source": [
    "### Remove SCAN_DATE before PURCHASE_DATE"
   ]
  },
  {
   "cell_type": "code",
   "execution_count": 30,
   "id": "59c28052-39e4-4868-838a-0ee8066f77bb",
   "metadata": {},
   "outputs": [],
   "source": [
    "# Drop the records where 'SCAN_DATE' is later than 'PURCHASE_DATE'\n",
    "\n",
    "transaction = transaction[transaction['PURCHASE_DATE'].dt.date <= transaction['SCAN_DATE'].dt.date]\n",
    "transaction.name = 'transaction'"
   ]
  },
  {
   "cell_type": "markdown",
   "id": "19239645-f267-4183-9295-8f049f3bf1e8",
   "metadata": {},
   "source": [
    "# User Table Analysis"
   ]
  },
  {
   "cell_type": "markdown",
   "id": "babe8394-e7ad-40d7-a37c-d62f920bfb79",
   "metadata": {},
   "source": [
    "### Key Data Quality Issues in the User Table:\n",
    "\n",
    "- **Missing Values**:\n",
    "- The **LANGUAGE**, **GENDER**, **STATE**, and **BIRTH_DATE** fields contain significant missing values, especially **LANGUAGE** (30.51%). It's important to assess the impact of these missing values on the overall analysis.\n",
    "  \n",
    "  **Note**: Since these fields are not critical as key identifiers, it is acceptable to leave them as is for now.\n",
    "\n",
    "**Date Validity and Consistency**:\n",
    "- **CREATED_DATE vs. BIRTH_DATE**: There is one record where **`CREATED_DATE`** is earlier than **`BIRTH_DATE`**, which is invalid. This could indicate an error in the data entry process.\n",
    "\n",
    "**Data Consistency**:\n",
    "- **GENDER**: The `GENDER` field contains multiple variations in responses (e.g., \"non_binary\" vs. \"Non-Binary\" and \"not_specified\"). This inconsistency makes it difficult to categorize and analyze gender data properly. Standardizing the gender values and consolidating similar responses into a consistent set is required.\n",
    "\n",
    "\n",
    "### Challenges to Understand:\n",
    "\n",
    "**Missing Data Impact**:\n",
    "- Although the **LANGUAGE**, **GENDER**, **STATE**, and **BIRTH_DATE** fields are not key fields, addressing missing data for **LANGUAGE** and **GENDER** may improve user profiling.\n",
    "\n",
    "\n",
    "**Date Anomalies**:\n",
    "- The existence of one record where **CREATED_DATE** is earlier than **BIRTH_DATE** presents an issue that needs investigation. Such anomalies should be corrected to ensure data accuracy, as this inconsistency may affect further analysis."
   ]
  },
  {
   "cell_type": "code",
   "execution_count": 31,
   "id": "ba57c8ed-d782-4dfe-8189-bb3dbfab3f04",
   "metadata": {},
   "outputs": [
    {
     "data": {
      "text/html": [
       "<div>\n",
       "<style scoped>\n",
       "    .dataframe tbody tr th:only-of-type {\n",
       "        vertical-align: middle;\n",
       "    }\n",
       "\n",
       "    .dataframe tbody tr th {\n",
       "        vertical-align: top;\n",
       "    }\n",
       "\n",
       "    .dataframe thead th {\n",
       "        text-align: right;\n",
       "    }\n",
       "</style>\n",
       "<table border=\"1\" class=\"dataframe\">\n",
       "  <thead>\n",
       "    <tr style=\"text-align: right;\">\n",
       "      <th></th>\n",
       "      <th>ID</th>\n",
       "      <th>CREATED_DATE</th>\n",
       "      <th>BIRTH_DATE</th>\n",
       "      <th>STATE</th>\n",
       "      <th>LANGUAGE</th>\n",
       "      <th>GENDER</th>\n",
       "    </tr>\n",
       "  </thead>\n",
       "  <tbody>\n",
       "    <tr>\n",
       "      <th>0</th>\n",
       "      <td>5ef3b4f17053ab141787697d</td>\n",
       "      <td>2020-06-24 20:17:54.000 Z</td>\n",
       "      <td>2000-08-11 00:00:00.000 Z</td>\n",
       "      <td>CA</td>\n",
       "      <td>es-419</td>\n",
       "      <td>female</td>\n",
       "    </tr>\n",
       "    <tr>\n",
       "      <th>1</th>\n",
       "      <td>5ff220d383fcfc12622b96bc</td>\n",
       "      <td>2021-01-03 19:53:55.000 Z</td>\n",
       "      <td>2001-09-24 04:00:00.000 Z</td>\n",
       "      <td>PA</td>\n",
       "      <td>en</td>\n",
       "      <td>female</td>\n",
       "    </tr>\n",
       "    <tr>\n",
       "      <th>2</th>\n",
       "      <td>6477950aa55bb77a0e27ee10</td>\n",
       "      <td>2023-05-31 18:42:18.000 Z</td>\n",
       "      <td>1994-10-28 00:00:00.000 Z</td>\n",
       "      <td>FL</td>\n",
       "      <td>es-419</td>\n",
       "      <td>female</td>\n",
       "    </tr>\n",
       "    <tr>\n",
       "      <th>3</th>\n",
       "      <td>658a306e99b40f103b63ccf8</td>\n",
       "      <td>2023-12-26 01:46:22.000 Z</td>\n",
       "      <td>NaN</td>\n",
       "      <td>NC</td>\n",
       "      <td>en</td>\n",
       "      <td>NaN</td>\n",
       "    </tr>\n",
       "    <tr>\n",
       "      <th>4</th>\n",
       "      <td>653cf5d6a225ea102b7ecdc2</td>\n",
       "      <td>2023-10-28 11:51:50.000 Z</td>\n",
       "      <td>1972-03-19 00:00:00.000 Z</td>\n",
       "      <td>PA</td>\n",
       "      <td>en</td>\n",
       "      <td>female</td>\n",
       "    </tr>\n",
       "  </tbody>\n",
       "</table>\n",
       "</div>"
      ],
      "text/plain": [
       "                         ID               CREATED_DATE  \\\n",
       "0  5ef3b4f17053ab141787697d  2020-06-24 20:17:54.000 Z   \n",
       "1  5ff220d383fcfc12622b96bc  2021-01-03 19:53:55.000 Z   \n",
       "2  6477950aa55bb77a0e27ee10  2023-05-31 18:42:18.000 Z   \n",
       "3  658a306e99b40f103b63ccf8  2023-12-26 01:46:22.000 Z   \n",
       "4  653cf5d6a225ea102b7ecdc2  2023-10-28 11:51:50.000 Z   \n",
       "\n",
       "                  BIRTH_DATE STATE LANGUAGE  GENDER  \n",
       "0  2000-08-11 00:00:00.000 Z    CA   es-419  female  \n",
       "1  2001-09-24 04:00:00.000 Z    PA       en  female  \n",
       "2  1994-10-28 00:00:00.000 Z    FL   es-419  female  \n",
       "3                        NaN    NC       en     NaN  \n",
       "4  1972-03-19 00:00:00.000 Z    PA       en  female  "
      ]
     },
     "execution_count": 31,
     "metadata": {},
     "output_type": "execute_result"
    }
   ],
   "source": [
    "user.head()"
   ]
  },
  {
   "cell_type": "code",
   "execution_count": 32,
   "id": "270478dc-e947-4a80-bd36-0eae27a02eac",
   "metadata": {},
   "outputs": [],
   "source": [
    "# Convert 'CREATED_DATE' and 'BIRTH_DATE' to datetime objects\n",
    "user['CREATED_DATE'] = pd.to_datetime(user['CREATED_DATE'], utc=True, errors='coerce')\n",
    "user['BIRTH_DATE'] = pd.to_datetime(user['BIRTH_DATE'], utc=True, errors='coerce')"
   ]
  },
  {
   "cell_type": "markdown",
   "id": "bb465f04-5aec-4a70-abe3-659f7925ace7",
   "metadata": {},
   "source": [
    "## User Table Overview"
   ]
  },
  {
   "cell_type": "code",
   "execution_count": 33,
   "id": "d9b86636-0b3c-4df7-8b3f-0edf7508722f",
   "metadata": {},
   "outputs": [
    {
     "name": "stdout",
     "output_type": "stream",
     "text": [
      "\n",
      "    Here is the result of the initial data check for of table 'user':\n",
      "\n",
      "    1. Basic Table Information:\n",
      "       - DataFrame has 100000 rows and 6 columns.\n",
      "    \n",
      "    2. Column Name Issues:\n",
      "       - No column names have extra spaces.\n",
      "       - No duplicate column names.\n",
      "\n",
      "    3. Data Type Overview:\n",
      "             Column           Data Type  Null Values  Unique Values\n",
      "    LANGUAGE              object        30508              2\n",
      "      GENDER              object         5892             11\n",
      "       STATE              object         4812             52\n",
      "  BIRTH_DATE datetime64[ns, UTC]         3675          54721\n",
      "CREATED_DATE datetime64[ns, UTC]            0          99942\n",
      "          ID              object            0         100000\n",
      "    \n",
      "    4. Potential Unique Identifiers in user table:\n",
      "       - Potential unique identifier(s): ['ID'].\n",
      "    \n",
      "    5. Null Column Analysis:\n",
      "       - Partially NULL columns: \n",
      "          - LANGUAGE: 30508 missing (30.51%)\n",
      "          - GENDER: 5892 missing (5.89%)\n",
      "          - STATE: 4812 missing (4.81%)\n",
      "          - BIRTH_DATE: 3675 missing (3.68%)\n",
      "    \n",
      "    6. Duplicate Row Analysis:\n",
      "       - No fully duplicate rows.\n",
      "    \n",
      "    7. Mixed Data Type Check (e.g., numbers mixed with text): \n",
      "       - Columns with mixed data types: ['ID'].\n",
      "       - Different types in these columns:\n",
      "          - ID: string, numeric\n",
      "    \n",
      "    8. Date Validity Check (timestamps are valid): \n",
      "       - All date columns are valid.\n",
      "    \n",
      "    9. Date Order Check (check if receipt scan date is after purchase date):\n",
      "       - No related columns found.\n",
      "    \n",
      "    10. Date Order Check (check if customers account created date is after birth date):\n",
      "       - There are 1 rows where 'created_date' is before 'birth_date'.\n",
      "    \n",
      "    11. Data Consistency Check (check if STATE, LANGUAGE, and GENDER are consistent):\n",
      "         - Invalid states detected: NaN\n",
      "         - Invalid languages detected: NaN\n",
      "         - Invalid gender values detected: NaN, Non-Binary, not_specified, My gender isn't listed, Prefer not to say\n",
      "\n",
      "    12. Summary Statistics:\n",
      "       - No numeric columns found.\n",
      "        \n",
      "    \n",
      "\n",
      "    Action required:\n",
      "    - Handle missing data: The following columns contain missing values:\n",
      "          - LANGUAGE: 30508 missing (30.51%)\n",
      "          - GENDER: 5892 missing (5.89%)\n",
      "          - STATE: 4812 missing (4.81%)\n",
      "          - BIRTH_DATE: 3675 missing (3.68%)\n",
      "    - Resolve mixed data type issues: Standardize data types in the following columns: ['ID'] to ensure consistency.\n",
      "    - Correct date order: 'created_date' should be after 'birth_date'. Found invalid entries in 1 rows.\n",
      "    - Resolve invalid states: Correct the following invalid states: NaN.\n",
      "    - Resolve invalid languages: Correct the following invalid languages: NaN.\n",
      "    - Resolve invalid gender values: Address the following invalid gender values: NaN, Non-Binary, not_specified, My gender isn't listed, Prefer not to say.\n",
      "\n",
      "    \n"
     ]
    }
   ],
   "source": [
    "print(print_summary(user))"
   ]
  },
  {
   "cell_type": "markdown",
   "id": "7e328bf1-e79f-42bd-a348-a7fb360d1977",
   "metadata": {},
   "source": [
    "## Data Cleaning"
   ]
  },
  {
   "cell_type": "markdown",
   "id": "83e876ac-0013-468e-b516-b2bc99ef01da",
   "metadata": {},
   "source": [
    "**To Do Next**: \n",
    "\n",
    "1. **Missing Values - LANGUAGE, GENDER, STATE, BIRTH_DATE**:  \n",
    "The `LANGUAGE` field has **30.51% missing data**, `GENDER` has **5.89% missing**, `STATE` has **4.81% missing**, and `BIRTH_DATE` has **3.68% missing**. Since these fields are **not key fields**, it is **acceptable to leave them as is for now**.\n",
    "\n",
    "3. **Data Type Consistency - ID**:  \n",
    "The `ID` field contains mixed data types (string and numeric). To ensure consistency across the column, **consider standardizing the data type by converting all values to a single format (either string or numeric)**.\n",
    "\n",
    "4. **Date Order - CREATED_DATE vs. BIRTH_DATE**:  \n",
    "There is **1 row** where `CREATED_DATE` is **earlier** than `BIRTH_DATE`, which is inconsistent with the expected data behavior. **Investigate and correct this data anomaly** by removing or correcting the affected row.\n",
    "\n",
    "\n",
    "8. **Data Accuracy - LANGUAGE, GENDER and STATE**:  \n",
    "The `GENDER` field contains variations in responses (e.g., \"non_binary\" vs. \"Non-Binary\"), which leads to inconsistencies in the data. Standardize the gender values by ensuring uniform formatting and consolidating similar responses into a consistent set of categories.\n"
   ]
  },
  {
   "cell_type": "markdown",
   "id": "eaaef19a-bb6d-4709-858f-cb69b5069afe",
   "metadata": {},
   "source": [
    "### Standardize ID data types"
   ]
  },
  {
   "cell_type": "code",
   "execution_count": 34,
   "id": "43ef98d3-59e6-4df2-8fea-6140cf953a3f",
   "metadata": {},
   "outputs": [
    {
     "data": {
      "text/html": [
       "<div>\n",
       "<style scoped>\n",
       "    .dataframe tbody tr th:only-of-type {\n",
       "        vertical-align: middle;\n",
       "    }\n",
       "\n",
       "    .dataframe tbody tr th {\n",
       "        vertical-align: top;\n",
       "    }\n",
       "\n",
       "    .dataframe thead th {\n",
       "        text-align: right;\n",
       "    }\n",
       "</style>\n",
       "<table border=\"1\" class=\"dataframe\">\n",
       "  <thead>\n",
       "    <tr style=\"text-align: right;\">\n",
       "      <th></th>\n",
       "      <th>ID</th>\n",
       "      <th>CREATED_DATE</th>\n",
       "      <th>BIRTH_DATE</th>\n",
       "      <th>STATE</th>\n",
       "      <th>LANGUAGE</th>\n",
       "      <th>GENDER</th>\n",
       "    </tr>\n",
       "  </thead>\n",
       "  <tbody>\n",
       "    <tr>\n",
       "      <th>58624</th>\n",
       "      <td>635410041020216633297518</td>\n",
       "      <td>2022-10-22 15:45:08+00:00</td>\n",
       "      <td>2002-03-30 05:00:00+00:00</td>\n",
       "      <td>MI</td>\n",
       "      <td>en</td>\n",
       "      <td>female</td>\n",
       "    </tr>\n",
       "  </tbody>\n",
       "</table>\n",
       "</div>"
      ],
      "text/plain": [
       "                             ID              CREATED_DATE  \\\n",
       "58624  635410041020216633297518 2022-10-22 15:45:08+00:00   \n",
       "\n",
       "                     BIRTH_DATE STATE LANGUAGE  GENDER  \n",
       "58624 2002-03-30 05:00:00+00:00    MI       en  female  "
      ]
     },
     "execution_count": 34,
     "metadata": {},
     "output_type": "execute_result"
    }
   ],
   "source": [
    "# Check for numeric values in the 'ID' column\n",
    "\n",
    "user[pd.to_numeric(user['ID'], errors='coerce').notna()]"
   ]
  },
  {
   "cell_type": "markdown",
   "id": "c4203d02-a00d-4198-a4c2-5c3bf0052ed6",
   "metadata": {},
   "source": [
    "Note: \n",
    "- The USER_ID values are already in the correct numeric format. Leave them as they are."
   ]
  },
  {
   "cell_type": "markdown",
   "id": "674ff993-396e-454f-ae0c-59561b216906",
   "metadata": {},
   "source": [
    "### Remove CREATE_DATE before BIRTH_DATE"
   ]
  },
  {
   "cell_type": "code",
   "execution_count": 35,
   "id": "db3797ef-6014-42c0-9323-2f382a7b2354",
   "metadata": {},
   "outputs": [],
   "source": [
    "# Drop the records where 'SCAN_DATE' is later than 'PURCHASE_DATE'\n",
    "\n",
    "user = user[user['CREATED_DATE'].dt.date >= user['BIRTH_DATE'].dt.date]\n",
    "user.name = 'user'"
   ]
  },
  {
   "cell_type": "markdown",
   "id": "4e569bdd-37c1-4fd1-8b6d-960eab6e815b",
   "metadata": {},
   "source": [
    "### Data Consistency in GENDER "
   ]
  },
  {
   "cell_type": "code",
   "execution_count": 36,
   "id": "e4f3d453-24c4-4644-96c1-5de61013ee58",
   "metadata": {},
   "outputs": [
    {
     "data": {
      "text/plain": [
       "array(['female', 'male', 'non_binary', 'transgender', nan,\n",
       "       'prefer_not_to_say', 'not_listed', 'Non-Binary', 'unknown',\n",
       "       'not_specified', \"My gender isn't listed\", 'Prefer not to say'],\n",
       "      dtype=object)"
      ]
     },
     "execution_count": 36,
     "metadata": {},
     "output_type": "execute_result"
    }
   ],
   "source": [
    "user['GENDER'].unique()"
   ]
  },
  {
   "cell_type": "code",
   "execution_count": 37,
   "id": "80f3ee99-830e-4e1b-ac1c-975d02cdc6de",
   "metadata": {},
   "outputs": [],
   "source": [
    "# Replace values in the 'GENDER' column\n",
    "user['GENDER'] = user['GENDER'].replace({'Non-Binary': 'non_binary',\n",
    "                                         'Prefer not to say': 'prefer_not_to_say',\n",
    "                                         'My gender isn\\'t listed': 'not_listed',\n",
    "                                         'not_specified': 'prefer_not_to_say'})"
   ]
  },
  {
   "cell_type": "markdown",
   "id": "495a022a-42da-49a9-978d-ccaa9b194437",
   "metadata": {},
   "source": [
    "# Data Analysis by SQL"
   ]
  },
  {
   "cell_type": "code",
   "execution_count": 38,
   "id": "608f652a-e87d-4cc5-b6d2-5110befaded2",
   "metadata": {},
   "outputs": [
    {
     "data": {
      "text/plain": [
       "96324"
      ]
     },
     "execution_count": 38,
     "metadata": {},
     "output_type": "execute_result"
    }
   ],
   "source": [
    "import sqlite3\n",
    "\n",
    "# Establish a connection to the SQLite database (or create one if it doesn't exist)\n",
    "conn = sqlite3.connect('fetch_data_challenge.db')\n",
    "\n",
    "cursor = conn.cursor()\n",
    "\n",
    "# 'product', 'transaction', and 'user' are your pandas DataFrames\n",
    "product.to_sql('product', conn, if_exists='replace', index=False)\n",
    "transaction.to_sql('transaction', conn, if_exists='replace', index=False)\n",
    "user.to_sql('user', conn, if_exists='replace', index=False)"
   ]
  },
  {
   "cell_type": "markdown",
   "id": "a51c1865-62cc-48a6-b01a-ba43de26c0d0",
   "metadata": {},
   "source": [
    "## Closed-End Questions"
   ]
  },
  {
   "cell_type": "markdown",
   "id": "850a93e7-d141-45f7-b7cf-963304c5a58b",
   "metadata": {},
   "source": [
    "### What are the top 5 brands by receipts scanned among users 21 and over?"
   ]
  },
  {
   "cell_type": "code",
   "execution_count": 39,
   "id": "670ad7c2-c8ec-48c0-a92f-9b3bd63d5f3e",
   "metadata": {},
   "outputs": [
    {
     "data": {
      "text/html": [
       "<div>\n",
       "<style scoped>\n",
       "    .dataframe tbody tr th:only-of-type {\n",
       "        vertical-align: middle;\n",
       "    }\n",
       "\n",
       "    .dataframe tbody tr th {\n",
       "        vertical-align: top;\n",
       "    }\n",
       "\n",
       "    .dataframe thead th {\n",
       "        text-align: right;\n",
       "    }\n",
       "</style>\n",
       "<table border=\"1\" class=\"dataframe\">\n",
       "  <thead>\n",
       "    <tr style=\"text-align: right;\">\n",
       "      <th></th>\n",
       "      <th>BRAND</th>\n",
       "      <th>num_receipts</th>\n",
       "    </tr>\n",
       "  </thead>\n",
       "  <tbody>\n",
       "    <tr>\n",
       "      <th>0</th>\n",
       "      <td>NERDS CANDY</td>\n",
       "      <td>3</td>\n",
       "    </tr>\n",
       "    <tr>\n",
       "      <th>1</th>\n",
       "      <td>DOVE</td>\n",
       "      <td>3</td>\n",
       "    </tr>\n",
       "    <tr>\n",
       "      <th>2</th>\n",
       "      <td>None</td>\n",
       "      <td>3</td>\n",
       "    </tr>\n",
       "    <tr>\n",
       "      <th>3</th>\n",
       "      <td>TRIDENT</td>\n",
       "      <td>2</td>\n",
       "    </tr>\n",
       "    <tr>\n",
       "      <th>4</th>\n",
       "      <td>SOUR PATCH KIDS</td>\n",
       "      <td>2</td>\n",
       "    </tr>\n",
       "  </tbody>\n",
       "</table>\n",
       "</div>"
      ],
      "text/plain": [
       "             BRAND  num_receipts\n",
       "0      NERDS CANDY             3\n",
       "1             DOVE             3\n",
       "2             None             3\n",
       "3          TRIDENT             2\n",
       "4  SOUR PATCH KIDS             2"
      ]
     },
     "execution_count": 39,
     "metadata": {},
     "output_type": "execute_result"
    }
   ],
   "source": [
    "query1 = \"\"\"\n",
    "SELECT \n",
    "    p.BRAND \n",
    "  , COUNT(DISTINCT t.RECEIPT_ID) as num_receipts\n",
    "FROM product as p \n",
    "JOIN \"transaction\" as t \n",
    "ON p.BARCODE = t.BARCODE\n",
    "JOIN user as u \n",
    "ON t.USER_ID = u.ID\n",
    "WHERE u.BIRTH_DATE <=  DATE('now', '-21 years') -- Users aged 21 and over\n",
    "GROUP BY 1\n",
    "ORDER BY 2 DESC\n",
    "LIMIT 5\n",
    "\"\"\"\n",
    "\n",
    "top5_brand = pd.read_sql_query(query1, conn)\n",
    "top5_brand"
   ]
  },
  {
   "cell_type": "markdown",
   "id": "7c38dc8e-cda7-47b4-85f7-3d75001b2dda",
   "metadata": {},
   "source": [
    "### What are the top 5 brands by sales among users that have had their account for at least six months?"
   ]
  },
  {
   "cell_type": "code",
   "execution_count": 40,
   "id": "a58f8c13-7b43-4973-b9e4-a0270230001d",
   "metadata": {},
   "outputs": [
    {
     "data": {
      "text/html": [
       "<div>\n",
       "<style scoped>\n",
       "    .dataframe tbody tr th:only-of-type {\n",
       "        vertical-align: middle;\n",
       "    }\n",
       "\n",
       "    .dataframe tbody tr th {\n",
       "        vertical-align: top;\n",
       "    }\n",
       "\n",
       "    .dataframe thead th {\n",
       "        text-align: right;\n",
       "    }\n",
       "</style>\n",
       "<table border=\"1\" class=\"dataframe\">\n",
       "  <thead>\n",
       "    <tr style=\"text-align: right;\">\n",
       "      <th></th>\n",
       "      <th>BRAND</th>\n",
       "      <th>total_sales</th>\n",
       "    </tr>\n",
       "  </thead>\n",
       "  <tbody>\n",
       "    <tr>\n",
       "      <th>0</th>\n",
       "      <td>CVS</td>\n",
       "      <td>72.00</td>\n",
       "    </tr>\n",
       "    <tr>\n",
       "      <th>1</th>\n",
       "      <td>DOVE</td>\n",
       "      <td>30.91</td>\n",
       "    </tr>\n",
       "    <tr>\n",
       "      <th>2</th>\n",
       "      <td>TRIDENT</td>\n",
       "      <td>23.36</td>\n",
       "    </tr>\n",
       "    <tr>\n",
       "      <th>3</th>\n",
       "      <td>COORS LIGHT</td>\n",
       "      <td>17.48</td>\n",
       "    </tr>\n",
       "    <tr>\n",
       "      <th>4</th>\n",
       "      <td>TRESEMMÉ</td>\n",
       "      <td>14.58</td>\n",
       "    </tr>\n",
       "  </tbody>\n",
       "</table>\n",
       "</div>"
      ],
      "text/plain": [
       "         BRAND  total_sales\n",
       "0          CVS        72.00\n",
       "1         DOVE        30.91\n",
       "2      TRIDENT        23.36\n",
       "3  COORS LIGHT        17.48\n",
       "4     TRESEMMÉ        14.58"
      ]
     },
     "execution_count": 40,
     "metadata": {},
     "output_type": "execute_result"
    }
   ],
   "source": [
    "query2 = \"\"\"\n",
    "SELECT\n",
    "  p.BRAND\n",
    "  , SUM(t.FINAL_SALE) AS total_sales\n",
    "FROM \"transaction\" as t\n",
    "JOIN product as p\n",
    "ON t.BARCODE = p.BARCODE\n",
    "JOIN user as u\n",
    "ON t.USER_ID = u.ID\n",
    "WHERE DATE('now', '-6 months') >= u.CREATED_DATE -- Users that have had their account for at least six months\n",
    "GROUP BY 1\n",
    "ORDER BY 2 DESC\n",
    "LIMIT 5\n",
    "\"\"\"\n",
    "\n",
    "\n",
    "top5_brand_by_sales = pd.read_sql_query(query2, conn)\n",
    "top5_brand_by_sales"
   ]
  },
  {
   "cell_type": "markdown",
   "id": "2b0ee2ab-8808-4f61-97c0-0637adabc532",
   "metadata": {},
   "source": [
    "### What is the percentage of sales in the Health & Wellness category by generation?"
   ]
  },
  {
   "cell_type": "code",
   "execution_count": 41,
   "id": "718753c5-1d0e-438e-bfb5-f2950e80958b",
   "metadata": {},
   "outputs": [
    {
     "data": {
      "text/html": [
       "<div>\n",
       "<style scoped>\n",
       "    .dataframe tbody tr th:only-of-type {\n",
       "        vertical-align: middle;\n",
       "    }\n",
       "\n",
       "    .dataframe tbody tr th {\n",
       "        vertical-align: top;\n",
       "    }\n",
       "\n",
       "    .dataframe thead th {\n",
       "        text-align: right;\n",
       "    }\n",
       "</style>\n",
       "<table border=\"1\" class=\"dataframe\">\n",
       "  <thead>\n",
       "    <tr style=\"text-align: right;\">\n",
       "      <th></th>\n",
       "      <th>generation</th>\n",
       "      <th>health_wellness_percentage</th>\n",
       "    </tr>\n",
       "  </thead>\n",
       "  <tbody>\n",
       "    <tr>\n",
       "      <th>0</th>\n",
       "      <td>Baby Boomers</td>\n",
       "      <td>54.26</td>\n",
       "    </tr>\n",
       "    <tr>\n",
       "      <th>1</th>\n",
       "      <td>Gen X</td>\n",
       "      <td>23.70</td>\n",
       "    </tr>\n",
       "    <tr>\n",
       "      <th>2</th>\n",
       "      <td>Millennials</td>\n",
       "      <td>22.04</td>\n",
       "    </tr>\n",
       "  </tbody>\n",
       "</table>\n",
       "</div>"
      ],
      "text/plain": [
       "     generation  health_wellness_percentage\n",
       "0  Baby Boomers                       54.26\n",
       "1         Gen X                       23.70\n",
       "2   Millennials                       22.04"
      ]
     },
     "execution_count": 41,
     "metadata": {},
     "output_type": "execute_result"
    }
   ],
   "source": [
    "query3 = \"\"\"\n",
    "WITH cte AS (\n",
    "SELECT\n",
    "    u.ID\n",
    "  , u.BIRTH_DATE\n",
    "  , CASE\n",
    "        WHEN CAST(strftime('%Y', BIRTH_DATE) AS INTEGER) BETWEEN 1928 AND 1945 THEN 'Silent Generation'\n",
    "        WHEN CAST(strftime('%Y', BIRTH_DATE) AS INTEGER) BETWEEN 1946 AND 1964 THEN 'Baby Boomers'\n",
    "        WHEN CAST(strftime('%Y', BIRTH_DATE) AS INTEGER) BETWEEN 1965 AND 1980 THEN 'Gen X'\n",
    "        WHEN CAST(strftime('%Y', BIRTH_DATE) AS INTEGER) BETWEEN 1981 AND 1996 THEN 'Millennials'\n",
    "        WHEN CAST(strftime('%Y', BIRTH_DATE) AS INTEGER) BETWEEN 1997 AND 2012 THEN 'Gen Z'\n",
    "        WHEN CAST(strftime('%Y', BIRTH_DATE) AS INTEGER) >= 2013 THEN 'Gen Alpha'\n",
    "        ELSE 'Unknown'\n",
    "    END AS generation\n",
    "  , t.FINAL_SALE\n",
    "FROM \"transaction\" as t\n",
    "JOIN product as p\n",
    "ON t.BARCODE = p.BARCODE\n",
    "JOIN user as u\n",
    "ON t.USER_ID = u.ID\n",
    "WHERE p.CATEGORY_1 = 'Health & Wellness'\n",
    ")\n",
    "SELECT\n",
    "    c.generation\n",
    "  , ROUND(SUM(c.FINAL_SALE)*100 / (SELECT SUM(FINAL_SALE) FROM CTE), 2) AS health_wellness_percentage\n",
    "FROM cte as c\n",
    "GROUP BY 1\n",
    "ORDER BY 2 DESC\n",
    "\"\"\"\n",
    "\n",
    "\n",
    "health_wellness_percentage = pd.read_sql_query(query3, conn)\n",
    "health_wellness_percentage"
   ]
  },
  {
   "cell_type": "markdown",
   "id": "ced02f7a-a01f-4898-b1d0-d018918ad0ac",
   "metadata": {},
   "source": [
    "## Open-Ended Questions "
   ]
  },
  {
   "cell_type": "markdown",
   "id": "65c47987-0056-4623-b1c8-8ad28efbef10",
   "metadata": {},
   "source": [
    "### Who are Fetch’s power users?"
   ]
  },
  {
   "cell_type": "markdown",
   "id": "ef80db87-d94d-47c0-8880-217bf59359ae",
   "metadata": {},
   "source": [
    "Typically, a power user is someone who engages with the product more intensely than the average user. This could mean they make more transactions, use more features, or are more active over a certain period.\n",
    "\n",
    "To define power users, we need to establish criteria based on user activity and engagement. Potential metrics could include:\n",
    "- **Frequency of Transactions**: Number of transactions a user has made.\n",
    "\n",
    "- **Total Spending**: The cumulative amount spent by a user.\n",
    "\n",
    "- **Recency of Activity**: How recently a user has been active.\n",
    "\n",
    "- **Product Diversity**: Number of different products a user has purchased.\n",
    "\n",
    "For this case study, let's define a power user as someone who:\n",
    "- Has spent more than $500 in total."
   ]
  },
  {
   "cell_type": "code",
   "execution_count": 42,
   "id": "8dfef7c5-ebf4-4434-b93c-3f9ea0f21226",
   "metadata": {},
   "outputs": [
    {
     "data": {
      "text/html": [
       "<div>\n",
       "<style scoped>\n",
       "    .dataframe tbody tr th:only-of-type {\n",
       "        vertical-align: middle;\n",
       "    }\n",
       "\n",
       "    .dataframe tbody tr th {\n",
       "        vertical-align: top;\n",
       "    }\n",
       "\n",
       "    .dataframe thead th {\n",
       "        text-align: right;\n",
       "    }\n",
       "</style>\n",
       "<table border=\"1\" class=\"dataframe\">\n",
       "  <thead>\n",
       "    <tr style=\"text-align: right;\">\n",
       "      <th></th>\n",
       "      <th>ID</th>\n",
       "      <th>total_spend</th>\n",
       "    </tr>\n",
       "  </thead>\n",
       "  <tbody>\n",
       "  </tbody>\n",
       "</table>\n",
       "</div>"
      ],
      "text/plain": [
       "Empty DataFrame\n",
       "Columns: [ID, total_spend]\n",
       "Index: []"
      ]
     },
     "execution_count": 42,
     "metadata": {},
     "output_type": "execute_result"
    }
   ],
   "source": [
    "query11= \"\"\"\n",
    "SELECT \n",
    "    u.ID\n",
    "  , SUM(t.FINAL_SALE) as total_spend\n",
    "FROM user as u \n",
    "JOIN \"transaction\" as t \n",
    "ON u.ID = t.USER_ID\n",
    "GROUP BY 1 \n",
    "HAVING SUM(t.FINAL_SALE) > 500\n",
    "ORDER BY 2 DESC\n",
    "\"\"\"\n",
    "\n",
    "\n",
    "power_user = pd.read_sql_query(query11, conn)\n",
    "power_user"
   ]
  },
  {
   "cell_type": "markdown",
   "id": "29d24c19-1411-4727-836c-7f3166734c5d",
   "metadata": {},
   "source": [
    "### Which is the leading brand in the Dips & Salsa category?"
   ]
  },
  {
   "cell_type": "markdown",
   "id": "bf622210-1d6a-4339-8785-0cb437f387c7",
   "metadata": {},
   "source": [
    "The **leading brand** can be defined based on different metrics such as:\n",
    "\n",
    "- **Total Sales Revenue**: The brand with the highest total sales amount in the \"Dips & Salsa\" category.\n",
    "\n",
    "- **Number of Transactions**: The brand with the most transactions in the \"Dips & Salsa\" category.\n",
    "\n",
    "- **Number of Unique Customers**: The brand with the most unique users purchasing their products in the category.\n",
    "\n",
    "For this case study, let's define the leading brand as the one with the highest total sales revenue in the \"Dips & Salsa\" category."
   ]
  },
  {
   "cell_type": "code",
   "execution_count": 43,
   "id": "c4f9d8d5-11d6-4a0a-a0c7-73c25ed52aba",
   "metadata": {},
   "outputs": [
    {
     "data": {
      "text/html": [
       "<div>\n",
       "<style scoped>\n",
       "    .dataframe tbody tr th:only-of-type {\n",
       "        vertical-align: middle;\n",
       "    }\n",
       "\n",
       "    .dataframe tbody tr th {\n",
       "        vertical-align: top;\n",
       "    }\n",
       "\n",
       "    .dataframe thead th {\n",
       "        text-align: right;\n",
       "    }\n",
       "</style>\n",
       "<table border=\"1\" class=\"dataframe\">\n",
       "  <thead>\n",
       "    <tr style=\"text-align: right;\">\n",
       "      <th></th>\n",
       "      <th>BRAND</th>\n",
       "      <th>unique_customers</th>\n",
       "    </tr>\n",
       "  </thead>\n",
       "  <tbody>\n",
       "    <tr>\n",
       "      <th>0</th>\n",
       "      <td>ZACCA</td>\n",
       "      <td>1</td>\n",
       "    </tr>\n",
       "  </tbody>\n",
       "</table>\n",
       "</div>"
      ],
      "text/plain": [
       "   BRAND  unique_customers\n",
       "0  ZACCA                 1"
      ]
     },
     "execution_count": 43,
     "metadata": {},
     "output_type": "execute_result"
    }
   ],
   "source": [
    "query22 = \"\"\"\n",
    "WITH CTE AS (\n",
    "SELECT\n",
    "  p.BRAND\n",
    "  , COUNT(DISTINCT t.USER_ID) AS unique_customers\n",
    "  , DENSE_RANK() OVER(ORDER BY SUM(t.FINAL_SALE)) AS rnk\n",
    "FROM \"transaction\" as t\n",
    "JOIN product as p\n",
    "ON t.BARCODE = p.BARCODE\n",
    "WHERE p.CATEGORY_2 = 'Dips & Salsa'\n",
    "GROUP BY 1\n",
    ")\n",
    "\n",
    "SELECT\n",
    "  cte.BRAND\n",
    "  , cte.unique_customers\n",
    "FROM CTE\n",
    "WHERE rnk=1\n",
    "\"\"\"\n",
    "\n",
    "\n",
    "leading_brand = pd.read_sql_query(query22, conn)\n",
    "leading_brand"
   ]
  },
  {
   "cell_type": "markdown",
   "id": "1a107425-8c30-49ec-b7db-effd0e706ba9",
   "metadata": {},
   "source": [
    "### At what percent has Fetch grown year over year?"
   ]
  },
  {
   "cell_type": "markdown",
   "id": "b92c44a6-0c94-4748-b1cd-fe13d07d295b",
   "metadata": {},
   "source": [
    "To calculate Fetch's year-over-year (YoY) growth, we need to determine the percentage increase or decrease in a specific metric over two consecutive years. Common metrics for growth analysis include:\n",
    "\n",
    "- **Total Revenue**: The sum of all transaction amounts.\n",
    "\n",
    "- **Number of Transactions**: The total count of transactions.\n",
    "\n",
    "- **Number of Active Users**: The count of unique users making transactions.\n",
    "\n",
    "For this case study, assuming the current year is 2024 and the previous year is 2023; let's focus on total revenue as the metric for growth calculation.\n",
    "\n",
    "\n",
    "Year-over-year revenue growth is calculated using the formula:\n",
    "\n",
    "$\n",
    "\\text{YoY Revenue Growth} = \\left( \\frac{\\text{Total Revenue in Current Year} - \\text{Total Revenue in Previous Year}}{\\text{Total Revenue in Previous Year}} \\right) \\times 100\n",
    "$\n",
    "\n"
   ]
  },
  {
   "cell_type": "code",
   "execution_count": null,
   "id": "fc2248b9-5540-48c6-941b-49bd632382b1",
   "metadata": {},
   "outputs": [],
   "source": [
    "query33 = \"\"\"\n",
    "WITH cte AS (\n",
    "SELECT\n",
    "    strftime('%Y', t.SCAN_DATE) AS transaction_year\n",
    "  , SUM(t.FINAL_SALE) AS total_revenue\n",
    "FROM \"transaction\" t\n",
    "WHERE strftime('%Y', t.SCAN_DATE) IN (2023, 2024)\n",
    "GROUP BY 1\n",
    ")\n",
    "SELECT\n",
    "    MAX(CASE WHEN transaction_year = 2024 THEN total_revenue END) AS current_year_revenue\n",
    "  , MAX(CASE WHEN transaction_year = 2023 THEN total_revenue END) AS previous_year_revenue\n",
    "  , (MAX(CASE WHEN transaction_year = 2024 THEN total_revenue END) - MAX(CASE WHEN transaction_year = 2023 THEN total_revenue END)) / MAX(CASE WHEN transaction_year = 2023 THEN total_revenue END) * 100 AS yoy_growth_percent\n",
    "FROM\n",
    "    cte\n",
    "\"\"\"\n",
    "\n",
    "yoy_revenue_growth = pd.read_sql_query(query33, conn)\n",
    "yoy_revenue_growth"
   ]
  },
  {
   "cell_type": "markdown",
   "id": "8450f1f4-23cc-4fef-aa96-8f71881defdf",
   "metadata": {},
   "source": [
    "## Interesting Trend"
   ]
  },
  {
   "cell_type": "markdown",
   "id": "22fc1a51-3577-4333-9bb8-9130d303b222",
   "metadata": {},
   "source": [
    "One interesting trend in the data is the **dominance of CVS** among users who have had their accounts for at least six months. CVS leads significantly with **$72 in total sales**, far outpacing the next top brands:\n",
    "\n",
    "- **DOVE**: \\$30.91\n",
    "- **TRIDENT**: \\$23.36\n",
    "- **COORS LIGHT**: \\$17.48\n",
    "- **TRESEMMÉ**: \\$14.58\n",
    "\n",
    "This suggests that **CVS is the most preferred brand** among long-term Fetch users, potentially due to its strong market presence, frequent promotions, or alignment with user preferences. The gap between CVS and the other brands highlights its strong performance in this user segment.\n",
    "\n",
    "The trend underscores CVS's exceptional performance among long-term Fetch users and provides valuable insights for optimizing brand partnerships and user engagement strategies."
   ]
  }
 ],
 "metadata": {
  "kernelspec": {
   "display_name": "Python 3 (ipykernel)",
   "language": "python",
   "name": "python3"
  },
  "language_info": {
   "codemirror_mode": {
    "name": "ipython",
    "version": 3
   },
   "file_extension": ".py",
   "mimetype": "text/x-python",
   "name": "python",
   "nbconvert_exporter": "python",
   "pygments_lexer": "ipython3",
   "version": "3.12.9"
  },
  "widgets": {
   "application/vnd.jupyter.widget-state+json": {
    "state": {},
    "version_major": 2,
    "version_minor": 0
   }
  }
 },
 "nbformat": 4,
 "nbformat_minor": 5
}
